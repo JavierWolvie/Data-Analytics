{
 "cells": [
  {
   "cell_type": "code",
   "execution_count": 60,
   "id": "ca4ee2a7-e814-4a9c-ac6c-55332531dbe8",
   "metadata": {},
   "outputs": [
    {
     "name": "stdout",
     "output_type": "stream",
     "text": [
      "Bobi’s phone: 0780124060\n"
     ]
    }
   ],
   "source": [
    "# Create the contacts dictionary with 5 entries (only phone numbers)\n",
    "contacts = {\n",
    "    \"Ali Scott\": \"012030407\",\n",
    "    \"Bobi Wine\":   \"0780124060\",\n",
    "    \"Carol Dame\": \"0190235693\",\n",
    "    \"Dave David\":  \"0712459067\",\n",
    "    \"Eve Vale\":   \"0184237640\",\n",
    "}\n",
    "\n",
    "# Example: Access and display Bobi's phone number\n",
    "Bobi_Wine = contacts.get(\"Bobi Wine\")\n",
    "if Bobi_Wine:\n",
    "    print(f\"Bobi’s phone: {Bobi_Wine}\")\n",
    "else:\n",
    "    print(\"Bobi is not found!\")"
   ]
  },
  {
   "cell_type": "code",
   "execution_count": 53,
   "id": "943fed6b-902c-4af0-b4df-92e1b0d36c70",
   "metadata": {},
   "outputs": [
    {
     "name": "stdout",
     "output_type": "stream",
     "text": [
      "0780124060\n"
     ]
    }
   ],
   "source": [
    "print(contacts['Bobi Wine'])"
   ]
  },
  {
   "cell_type": "code",
   "execution_count": 48,
   "id": "c4aa9430-5779-46d8-8068-5a08ee08b6fc",
   "metadata": {},
   "outputs": [
    {
     "name": "stdout",
     "output_type": "stream",
     "text": [
      "Ali Scott\n",
      "Bobi Wine\n",
      "Carol Dame\n",
      "Dave David\n",
      "Eve Vale\n"
     ]
    }
   ],
   "source": [
    "for contact in contacts:\n",
    "    print(contact)"
   ]
  },
  {
   "cell_type": "code",
   "execution_count": 52,
   "id": "17f7175c-8007-42ac-8959-e840dee861c4",
   "metadata": {},
   "outputs": [
    {
     "name": "stdout",
     "output_type": "stream",
     "text": [
      "Ali Scott: 0120304070\n",
      "Bobi Wine: 0780124060\n",
      "Carol Dame: 0190235693\n",
      "Dave David: 0712459067\n",
      "Eve Vale: 0184237640\n"
     ]
    }
   ],
   "source": [
    "for contact in contacts:\n",
    "    print(f\"{contact}: {contacts[contact]}\")"
   ]
  },
  {
   "cell_type": "code",
   "execution_count": 54,
   "id": "d5eae218-f44c-4e17-8830-0151ed57273e",
   "metadata": {},
   "outputs": [],
   "source": [
    "#3. Input Validation: Use error handling for user input\n",
    "def search_contact():\n",
    "    name = input(\"Enter name to search: \").strip()\n",
    "    phone = contacts.get(name)\n",
    "    if phone:\n",
    "        print(f\"{name}: {phone}\")\n",
    "    else:\n",
    "        print(f\"{name} not found.\")"
   ]
  },
  {
   "cell_type": "code",
   "execution_count": 59,
   "id": "2a72b268-7ad7-4e94-9a13-3db49599a0b1",
   "metadata": {},
   "outputs": [
    {
     "name": "stdout",
     "output_type": "stream",
     "text": [
      "Correct!!\n"
     ]
    }
   ],
   "source": [
    "#error handling \n",
    "\n",
    "try:\n",
    "    last_contact= \"Eve Vale\"\n",
    "    if last_contact== \"Eve Vale\":\n",
    "      print(\"Correct!!\")\n",
    "except Exception as e:\n",
    "    print(\"You got it wrong!!\")\n"
   ]
  },
  {
   "cell_type": "code",
   "execution_count": 64,
   "id": "4dcb7898-4e59-4b62-bb1b-fb10752a825f",
   "metadata": {},
   "outputs": [],
   "source": [
    "#4. Multiple Functions: Break your code into logical functions\n",
    "\n",
    "\n",
    "def display_all_contacts(contacts):\n",
    "    \"\"\"Display all contacts.\"\"\"\n",
    "    if contacts:\n",
    "        for name, phone in contacts.items():\n",
    "            print(f\"{name}: {phone}\")\n",
    "    else:\n",
    "        print(\"No contacts available.\")\n",
    "\n",
    "def search_contact_by_name(contacts):\n",
    "    \"\"\"Search for a contact by name.\"\"\"\n",
    "    name = input(\"Enter name to search: \").strip()\n",
    "    phone = contacts.get(name)\n",
    "    if phone:\n",
    "        print(f\"{name}: {phone}\")\n",
    "    else:\n",
    "        print(f\"{name} not found.\")"
   ]
  },
  {
   "cell_type": "code",
   "execution_count": 63,
   "id": "56159606-8c13-41f1-be5e-e039926e19d1",
   "metadata": {},
   "outputs": [
    {
     "name": "stdout",
     "output_type": "stream",
     "text": [
      "Invalid length, try again!\n"
     ]
    }
   ],
   "source": [
    "# 5. Data Analysis: Show statistics about your contacts\n",
    "lengths = [len(contact) for contact in contacts]\n",
    "valid_lengths = [length == 10 for length in contacts]\n",
    "if lengths == 10:\n",
    "  print(\"The lenght of contact is: \")\n",
    "  print(\"Right length\")\n",
    "\n",
    "else:\n",
    "  print(\"Invalid length, try again!\")\n"
   ]
  },
  {
   "cell_type": "code",
   "execution_count": null,
   "id": "f3a0f82b-2677-4fc5-b2be-e78b78184108",
   "metadata": {},
   "outputs": [],
   "source": []
  }
 ],
 "metadata": {
  "kernelspec": {
   "display_name": "Python 3 (ipykernel)",
   "language": "python",
   "name": "python3"
  },
  "language_info": {
   "codemirror_mode": {
    "name": "ipython",
    "version": 3
   },
   "file_extension": ".py",
   "mimetype": "text/x-python",
   "name": "python",
   "nbconvert_exporter": "python",
   "pygments_lexer": "ipython3",
   "version": "3.13.5"
  }
 },
 "nbformat": 4,
 "nbformat_minor": 5
}
