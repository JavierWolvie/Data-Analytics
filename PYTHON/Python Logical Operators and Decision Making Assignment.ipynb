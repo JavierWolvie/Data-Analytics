{
 "cells": [
  {
   "cell_type": "markdown",
   "id": "b735f2c0-1a06-449a-a5b6-70fb45c696e7",
   "metadata": {},
   "source": [
    "# 🔹Section 1: Even or Odd Checker"
   ]
  },
  {
   "cell_type": "code",
   "execution_count": 1,
   "id": "dac73de7-969a-4677-8251-b56a61a7b90a",
   "metadata": {},
   "outputs": [
    {
     "name": "stdin",
     "output_type": "stream",
     "text": [
      "Enter a number: 7\n"
     ]
    },
    {
     "name": "stdout",
     "output_type": "stream",
     "text": [
      "7 is an odd number\n"
     ]
    }
   ],
   "source": [
    "#Ask the user to enter a number. Determine if it's even or odd, and print the\n",
    "#result.\n",
    "\n",
    "numb=int(input(\"Enter a number:\"))\n",
    "\n",
    "#check if the number is odd or even\n",
    "if numb  % 2==0:\n",
    "    print(f\"{numb} is an even number\")\n",
    "else:\n",
    "    print(f\"{numb} is an odd number\")"
   ]
  },
  {
   "cell_type": "code",
   "execution_count": null,
   "id": "05e4d3fd-ef14-4c18-8f60-b360182b5380",
   "metadata": {},
   "outputs": [],
   "source": []
  },
  {
   "cell_type": "markdown",
   "id": "88456993-0299-492e-bb64-d7691c06d57e",
   "metadata": {},
   "source": [
    "# 🔹Section 2: Grade Classifier"
   ]
  },
  {
   "cell_type": "code",
   "execution_count": null,
   "id": "2288d5d5-a73c-45c9-805e-001e4a7695a5",
   "metadata": {},
   "outputs": [],
   "source": [
    "#Ask the user to enter a score (0–100). Then classify it:\n",
    "# Ask the user for a score\n",
    "\n",
    " score=int(input(\"Enter a score(0-100)# Ask for inputs:\"))\n",
    "\n",
    "#validate the score\n",
    "if score< 0 or score > 100:\n",
    "    print(\"Invalid score!\")\n",
    "else:\n",
    "    #Determine the grade\n",
    "    if score >= 90:\n",
    "        grade=\"A\"\n",
    "    elif score >= 80:\n",
    "        grade=\"B\"\n",
    "    elif score>= 70:\n",
    "        grade=\"C\"\n",
    "    elif score >= 60:\n",
    "        grade=\"D\"\n",
    "    else score< 60:\n",
    "        grade=\"Fail\"\n",
    "   print(f\"score:{score} → Grade:{grade}\")customer_type = input(\"Enter customer type ('regular' or custo'premium')\n"
   ]
  },
  {
   "cell_type": "markdown",
   "id": "86c647b3-6b81-453e-b490-7b2ca25095cc",
   "metadata": {},
   "source": [
    "# 🔹Section 3: Customer Discount Checker"
   ]
  },
  {
   "cell_type": "code",
   "execution_count": 12,
   "id": "2c401a2e-ab48-43ea-bf55-5523a97a76da",
   "metadata": {},
   "outputs": [
    {
     "name": "stdin",
     "output_type": "stream",
     "text": [
      "Enter customer type ('regular' or 'premium'): regular\n",
      "Enter purchase amount (KES):  12000\n"
     ]
    },
    {
     "name": "stdout",
     "output_type": "stream",
     "text": [
      "customer type: Regular\n",
      "purchase amount: KES 12,000.00\n",
      "Discount applied: 0% → KES 0.00\n",
      "Final price: KES 12,000.00\n"
     ]
    }
   ],
   "source": [
    "# Ask for inputs\n",
    "customer_type = input(\"Enter customer type ('regular' or 'premium'):\")\n",
    "\n",
    "customer_type= customer_type.lower()\n",
    "\n",
    "amount = float(input(\"Enter purchase amount (KES): \"))\n",
    "\n",
    "if amount < 0 :\n",
    "    print(\"Invalid input.\")\n",
    "\n",
    "# Determine discount rate.\n",
    "\n",
    "if customer_type  == \"premium\"  and amount > 10000:\n",
    "    discount_rate = 0.20\n",
    "elif customer_type == \"regular\"  and amount > 15000:\n",
    "    discount_rate = 0.10\n",
    "else:\n",
    "  discount_rate =0.0\n",
    "\n",
    "# Calculate values\n",
    "discount = amount * discount_rate\n",
    "final_price = amount - discount\n",
    "\n",
    "# Output result\n",
    "print(f\"customer type: {customer_type.capitalize()}\")\n",
    "print(f\"purchase amount: KES {amount:,.2f}\")\n",
    "print(f\"Discount applied: {discount_rate*100:.0f}% → KES {discount:,.2f}\")\n",
    "print(f\"Final price: KES {final_price:,.2f}\")\n",
    "\n",
    "\n",
    "\n"
   ]
  },
  {
   "cell_type": "markdown",
   "id": "e6593dcb-4c0c-465c-a575-db1f3943b3da",
   "metadata": {},
   "source": [
    "# 🔹Section 4: Simple Age Access Checker"
   ]
  },
  {
   "cell_type": "code",
   "execution_count": 8,
   "id": "3fc8f79c-91af-4cc8-84c8-7f2028b71f67",
   "metadata": {},
   "outputs": [
    {
     "name": "stdin",
     "output_type": "stream",
     "text": [
      "Enter your age: 30\n"
     ]
    },
    {
     "name": "stdout",
     "output_type": "stream",
     "text": [
      "Acess Granted.\n"
     ]
    }
   ],
   "source": [
    "#Ask for user’s age.\n",
    "age=int(input(\"Enter your age:\"))\n",
    "\n",
    "if age < 18:\n",
    "    print(\"Acess Denied.\")\n",
    "else:\n",
    "    print(\"Acess Granted.\")"
   ]
  },
  {
   "cell_type": "code",
   "execution_count": null,
   "id": "a11acd34-f79f-41cb-8875-0586bb002a1d",
   "metadata": {},
   "outputs": [],
   "source": []
  }
 ],
 "metadata": {
  "kernelspec": {
   "display_name": "Python 3 (ipykernel)",
   "language": "python",
   "name": "python3"
  },
  "language_info": {
   "codemirror_mode": {
    "name": "ipython",
    "version": 3
   },
   "file_extension": ".py",
   "mimetype": "text/x-python",
   "name": "python",
   "nbconvert_exporter": "python",
   "pygments_lexer": "ipython3",
   "version": "3.13.5"
  }
 },
 "nbformat": 4,
 "nbformat_minor": 5
}
