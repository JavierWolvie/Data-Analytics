{
 "cells": [
  {
   "cell_type": "markdown",
   "id": "ba03867b-ea85-4d7d-ac55-bc3dcd8c82c2",
   "metadata": {},
   "source": [
    "## The or Operator (At least ONE condition must be true)"
   ]
  },
  {
   "cell_type": "code",
   "execution_count": 2,
   "id": "31810434-7e19-404d-bffc-71d76db45fb1",
   "metadata": {},
   "outputs": [
    {
     "name": "stdout",
     "output_type": "stream",
     "text": [
      "can sleep in: True\n"
     ]
    }
   ],
   "source": [
    "# You can sleep in if it's EITHER Saturday OR Sunday\n",
    "day=\"Saturday\"\n",
    "is_Saturday=day==\"Saturday\"\n",
    "is_sunday=day==\"Sunday\"\n",
    "\n",
    "can_sleep_in=is_Saturday or is_sunday\n",
    "print(\"can sleep in:\",can_sleep_in,) "
   ]
  },
  {
   "cell_type": "code",
   "execution_count": 3,
   "id": "9ed46a18-d0a4-43f8-ab5d-fd8ff5d86f22",
   "metadata": {},
   "outputs": [
    {
     "name": "stdout",
     "output_type": "stream",
     "text": [
      "gets free shipping True\n"
     ]
    }
   ],
   "source": [
    "# You get free shipping if you spend over $50 OR you're a premium member\n",
    "order_total = 35\n",
    "is_premium = True\n",
    "free_shipping=order_total>=50 or is_premium \n",
    "print(\"gets free shipping\",free_shipping,)"
   ]
  },
  {
   "cell_type": "code",
   "execution_count": 4,
   "id": "000aca8f-df9a-420d-a5e1-869e616563e6",
   "metadata": {},
   "outputs": [
    {
     "name": "stdout",
     "output_type": "stream",
     "text": [
      "Can have picnic: True\n"
     ]
    }
   ],
   "source": [
    "#The not Operator (Opposite of a condition)\n",
    "# If it's NOT raining, we can have a picnic\n",
    "is_raining = False\n",
    "can_have_picnic = not is_raining\n",
    "print(\"Can have picnic:\", can_have_picnic) # Shows: True"
   ]
  },
  {
   "cell_type": "code",
   "execution_count": 5,
   "id": "9204c9d5-de97-4afc-bbf7-11f5a58ed3eb",
   "metadata": {},
   "outputs": [
    {
     "name": "stdout",
     "output_type": "stream",
     "text": [
      "Show login page: True\n"
     ]
    }
   ],
   "source": [
    "# If the user is NOT logged in, show the login page\n",
    "is_logged_in = False\n",
    "show_login = not is_logged_in\n",
    "print(\"Show login page:\", show_login)"
   ]
  },
  {
   "cell_type": "code",
   "execution_count": null,
   "id": "eb4dacb7-3732-4247-b25b-78d5b9b2b43b",
   "metadata": {},
   "outputs": [],
   "source": []
  },
  {
   "cell_type": "raw",
   "id": "cd4a2b37-f652-4dd2-a4f4-411405c36aec",
   "metadata": {},
   "source": [
    "#Making Decisions with if/elif/else (Teaching Your Program to Choose)\n",
    "# Basic if statement\n",
    "temperature=85\n",
    "if temperature  >80:\n",
    "      print(\"Hot day, stay hydrated\")"
   ]
  },
  {
   "cell_type": "code",
   "execution_count": 14,
   "id": "c791f993-9f68-4cfe-9268-6f6ea39c045b",
   "metadata": {},
   "outputs": [
    {
     "name": "stdout",
     "output_type": "stream",
     "text": [
      "you are not old enough to vote in an election\n"
     ]
    }
   ],
   "source": [
    "#if-else Statements (Choose between two options)\n",
    "age=17\n",
    "\n",
    "if age >=18:\n",
    "    print(\"you can vote in an election\")\n",
    "else:\n",
    "    print(\"you are not old enough to vote in an election\")"
   ]
  },
  {
   "cell_type": "markdown",
   "id": "d29aee0c-241b-44ed-950b-066c7d7f368c",
   "metadata": {},
   "source": [
    "Multiple Conditions with elif (Choose from many options)\n"
   ]
  },
  {
   "cell_type": "code",
   "execution_count": 21,
   "id": "6801c761-6e83-4940-af7b-2b5a5e006ff0",
   "metadata": {},
   "outputs": [
    {
     "name": "stdout",
     "output_type": "stream",
     "text": [
      "Your grade is B-Great job\n"
     ]
    }
   ],
   "source": [
    "# Grade calculator\n",
    "score=87\n",
    "\n",
    "if score >=90:\n",
    "  print(\"Your grade is A-excellent work\")\n",
    "elif score >=80:\n",
    "  print(\"Your grade is B-Great job\")\n",
    "elif score >=70:\n",
    "  print(\"Your grade is C\")\n",
    "else:\n",
    "  \n",
    " \n"
   ]
  },
  {
   "cell_type": "code",
   "execution_count": 23,
   "id": "a7ad8232-4141-4f6f-afb5-2b596e0d3840",
   "metadata": {},
   "outputs": [
    {
     "name": "stdout",
     "output_type": "stream",
     "text": [
      "Stay indoors\n"
     ]
    }
   ],
   "source": [
    "# Weather advisor that considers multiple factors\n",
    "temperature = 75\n",
    "is_raining = False\n",
    "is_windy = True\n",
    "if temperature>80 and not is_raining:\n",
    "    print(\"Good day to jog outside\")\n",
    "elif temperature> 70 and not is_raining and not is_windy:\n",
    "    print(\"Great day to chill with friends\")\n",
    "elif temperature>40 and is_windy:\n",
    "    print(\"Stay indoors\")\n",
    "else:\n",
    "    print(\"We all is decent\")\n",
    "    \n"
   ]
  },
  {
   "cell_type": "code",
   "execution_count": null,
   "id": "6407751d-24d9-4784-bc38-a2167fe7c99c",
   "metadata": {},
   "outputs": [],
   "source": []
  }
 ],
 "metadata": {
  "kernelspec": {
   "display_name": "Python 3 (ipykernel)",
   "language": "python",
   "name": "python3"
  },
  "language_info": {
   "codemirror_mode": {
    "name": "ipython",
    "version": 3
   },
   "file_extension": ".py",
   "mimetype": "text/x-python",
   "name": "python",
   "nbconvert_exporter": "python",
   "pygments_lexer": "ipython3",
   "version": "3.13.5"
  }
 },
 "nbformat": 4,
 "nbformat_minor": 5
}
