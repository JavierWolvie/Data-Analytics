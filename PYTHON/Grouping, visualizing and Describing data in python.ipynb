{
 "cells": [
  {
   "cell_type": "markdown",
   "id": "86b9b97d-ffb2-4e5e-bd77-1d9db8fc94cc",
   "metadata": {},
   "source": [
    "# Part A: aggregating and Grouping with pandas"
   ]
  },
  {
   "cell_type": "code",
   "execution_count": 1,
   "id": "d96873d0-17e0-4a91-a015-777eb4bff0ad",
   "metadata": {},
   "outputs": [],
   "source": [
    "#import libraries\n",
    "\n",
    "import pandas as pd\n",
    "import numpy as np\n",
    "import matplotlib.pyplot as plt\n",
    "import seaborn as sns"
   ]
  },
  {
   "cell_type": "code",
   "execution_count": 3,
   "id": "f8eeb352-6501-45d7-aba6-1e07306d6622",
   "metadata": {},
   "outputs": [
    {
     "data": {
      "text/html": [
       "<div>\n",
       "<style scoped>\n",
       "    .dataframe tbody tr th:only-of-type {\n",
       "        vertical-align: middle;\n",
       "    }\n",
       "\n",
       "    .dataframe tbody tr th {\n",
       "        vertical-align: top;\n",
       "    }\n",
       "\n",
       "    .dataframe thead th {\n",
       "        text-align: right;\n",
       "    }\n",
       "</style>\n",
       "<table border=\"1\" class=\"dataframe\">\n",
       "  <thead>\n",
       "    <tr style=\"text-align: right;\">\n",
       "      <th></th>\n",
       "      <th>region</th>\n",
       "      <th>product_category</th>\n",
       "      <th>sales_amount</th>\n",
       "      <th>quantity_sold</th>\n",
       "      <th>month</th>\n",
       "    </tr>\n",
       "  </thead>\n",
       "  <tbody>\n",
       "    <tr>\n",
       "      <th>0</th>\n",
       "      <td>East</td>\n",
       "      <td>Clothing</td>\n",
       "      <td>105.33</td>\n",
       "      <td>1</td>\n",
       "      <td>May</td>\n",
       "    </tr>\n",
       "    <tr>\n",
       "      <th>1</th>\n",
       "      <td>West</td>\n",
       "      <td>Home</td>\n",
       "      <td>59.94</td>\n",
       "      <td>9</td>\n",
       "      <td>Feb</td>\n",
       "    </tr>\n",
       "    <tr>\n",
       "      <th>2</th>\n",
       "      <td>North</td>\n",
       "      <td>Electronics</td>\n",
       "      <td>111.41</td>\n",
       "      <td>1</td>\n",
       "      <td>Mar</td>\n",
       "    </tr>\n",
       "    <tr>\n",
       "      <th>3</th>\n",
       "      <td>East</td>\n",
       "      <td>Electronics</td>\n",
       "      <td>118.32</td>\n",
       "      <td>3</td>\n",
       "      <td>Mar</td>\n",
       "    </tr>\n",
       "    <tr>\n",
       "      <th>4</th>\n",
       "      <td>East</td>\n",
       "      <td>Electronics</td>\n",
       "      <td>116.79</td>\n",
       "      <td>8</td>\n",
       "      <td>Apr</td>\n",
       "    </tr>\n",
       "  </tbody>\n",
       "</table>\n",
       "</div>"
      ],
      "text/plain": [
       "  region product_category  sales_amount  quantity_sold month\n",
       "0   East         Clothing        105.33              1   May\n",
       "1   West             Home         59.94              9   Feb\n",
       "2  North      Electronics        111.41              1   Mar\n",
       "3   East      Electronics        118.32              3   Mar\n",
       "4   East      Electronics        116.79              8   Apr"
      ]
     },
     "execution_count": 3,
     "metadata": {},
     "output_type": "execute_result"
    }
   ],
   "source": [
    "#loading dataset\n",
    "\n",
    "df= pd.read_csv('retail_data.csv')\n",
    "\n",
    "df.head()"
   ]
  },
  {
   "cell_type": "markdown",
   "id": "632efb4a-dd83-45f4-a9b9-e0fd9303b413",
   "metadata": {},
   "source": [
    "## Basic Grouping with groupby()"
   ]
  },
  {
   "cell_type": "code",
   "execution_count": 7,
   "id": "5072a743-ee3b-4413-b174-27188d6c3fde",
   "metadata": {},
   "outputs": [
    {
     "data": {
      "text/plain": [
       "region\n",
       "East     7827.29\n",
       "North    7862.64\n",
       "South    6916.63\n",
       "West     8583.18\n",
       "Name: sales_amount, dtype: float64"
      ]
     },
     "execution_count": 7,
     "metadata": {},
     "output_type": "execute_result"
    }
   ],
   "source": [
    "sales_per_region= df.groupby('region')['sales_amount'].sum()\n",
    "\n",
    "sales_per_region"
   ]
  },
  {
   "cell_type": "code",
   "execution_count": 10,
   "id": "a3538f3d-f34d-4c50-b752-32b81fd88230",
   "metadata": {},
   "outputs": [
    {
     "data": {
      "text/plain": [
       "product_category\n",
       "Books          5295.19\n",
       "Clothing       8370.65\n",
       "Electronics    9217.31\n",
       "Home           8306.59\n",
       "Name: sales_amount, dtype: float64"
      ]
     },
     "execution_count": 10,
     "metadata": {},
     "output_type": "execute_result"
    }
   ],
   "source": [
    "#sales per product_categorydf\n",
    "sales_per_product_category= df.groupby('product_category')['sales_amount'].sum()\n",
    "\n",
    "sales_per_product_category"
   ]
  },
  {
   "cell_type": "code",
   "execution_count": 12,
   "id": "eb9eb5e8-8681-4fc5-b0dd-f588e41cb310",
   "metadata": {},
   "outputs": [
    {
     "data": {
      "text/html": [
       "<div>\n",
       "<style scoped>\n",
       "    .dataframe tbody tr th:only-of-type {\n",
       "        vertical-align: middle;\n",
       "    }\n",
       "\n",
       "    .dataframe tbody tr th {\n",
       "        vertical-align: top;\n",
       "    }\n",
       "\n",
       "    .dataframe thead th {\n",
       "        text-align: right;\n",
       "    }\n",
       "</style>\n",
       "<table border=\"1\" class=\"dataframe\">\n",
       "  <thead>\n",
       "    <tr style=\"text-align: right;\">\n",
       "      <th></th>\n",
       "      <th>region</th>\n",
       "      <th>sum</th>\n",
       "      <th>mean</th>\n",
       "      <th>min</th>\n",
       "      <th>max</th>\n",
       "      <th>count</th>\n",
       "    </tr>\n",
       "  </thead>\n",
       "  <tbody>\n",
       "    <tr>\n",
       "      <th>0</th>\n",
       "      <td>East</td>\n",
       "      <td>7827.29</td>\n",
       "      <td>101.653117</td>\n",
       "      <td>34.04</td>\n",
       "      <td>175.81</td>\n",
       "      <td>77</td>\n",
       "    </tr>\n",
       "    <tr>\n",
       "      <th>1</th>\n",
       "      <td>North</td>\n",
       "      <td>7862.64</td>\n",
       "      <td>106.251892</td>\n",
       "      <td>49.94</td>\n",
       "      <td>173.66</td>\n",
       "      <td>74</td>\n",
       "    </tr>\n",
       "    <tr>\n",
       "      <th>2</th>\n",
       "      <td>South</td>\n",
       "      <td>6916.63</td>\n",
       "      <td>101.715147</td>\n",
       "      <td>43.31</td>\n",
       "      <td>168.97</td>\n",
       "      <td>68</td>\n",
       "    </tr>\n",
       "    <tr>\n",
       "      <th>3</th>\n",
       "      <td>West</td>\n",
       "      <td>8583.18</td>\n",
       "      <td>105.965185</td>\n",
       "      <td>14.54</td>\n",
       "      <td>164.90</td>\n",
       "      <td>81</td>\n",
       "    </tr>\n",
       "  </tbody>\n",
       "</table>\n",
       "</div>"
      ],
      "text/plain": [
       "  region      sum        mean    min     max  count\n",
       "0   East  7827.29  101.653117  34.04  175.81     77\n",
       "1  North  7862.64  106.251892  49.94  173.66     74\n",
       "2  South  6916.63  101.715147  43.31  168.97     68\n",
       "3   West  8583.18  105.965185  14.54  164.90     81"
      ]
     },
     "execution_count": 12,
     "metadata": {},
     "output_type": "execute_result"
    }
   ],
   "source": [
    "Region_summary= df.groupby('region')['sales_amount'].agg(['sum','mean','min','max','count'])\n",
    "\n",
    "Region_summary.reset_index()"
   ]
  },
  {
   "cell_type": "code",
   "execution_count": 14,
   "id": "0204c367-0ed8-43ec-80c6-dd120f881539",
   "metadata": {},
   "outputs": [
    {
     "data": {
      "text/html": [
       "<div>\n",
       "<style scoped>\n",
       "    .dataframe tbody tr th:only-of-type {\n",
       "        vertical-align: middle;\n",
       "    }\n",
       "\n",
       "    .dataframe tbody tr th {\n",
       "        vertical-align: top;\n",
       "    }\n",
       "\n",
       "    .dataframe thead th {\n",
       "        text-align: right;\n",
       "    }\n",
       "</style>\n",
       "<table border=\"1\" class=\"dataframe\">\n",
       "  <thead>\n",
       "    <tr style=\"text-align: right;\">\n",
       "      <th></th>\n",
       "      <th>region</th>\n",
       "      <th>product_category</th>\n",
       "      <th>sales_amount</th>\n",
       "    </tr>\n",
       "  </thead>\n",
       "  <tbody>\n",
       "    <tr>\n",
       "      <th>0</th>\n",
       "      <td>East</td>\n",
       "      <td>Books</td>\n",
       "      <td>963.21</td>\n",
       "    </tr>\n",
       "    <tr>\n",
       "      <th>1</th>\n",
       "      <td>East</td>\n",
       "      <td>Clothing</td>\n",
       "      <td>2040.18</td>\n",
       "    </tr>\n",
       "    <tr>\n",
       "      <th>2</th>\n",
       "      <td>East</td>\n",
       "      <td>Electronics</td>\n",
       "      <td>2617.60</td>\n",
       "    </tr>\n",
       "    <tr>\n",
       "      <th>3</th>\n",
       "      <td>East</td>\n",
       "      <td>Home</td>\n",
       "      <td>2206.30</td>\n",
       "    </tr>\n",
       "    <tr>\n",
       "      <th>4</th>\n",
       "      <td>North</td>\n",
       "      <td>Books</td>\n",
       "      <td>1121.29</td>\n",
       "    </tr>\n",
       "    <tr>\n",
       "      <th>5</th>\n",
       "      <td>North</td>\n",
       "      <td>Clothing</td>\n",
       "      <td>2273.95</td>\n",
       "    </tr>\n",
       "    <tr>\n",
       "      <th>6</th>\n",
       "      <td>North</td>\n",
       "      <td>Electronics</td>\n",
       "      <td>1976.14</td>\n",
       "    </tr>\n",
       "    <tr>\n",
       "      <th>7</th>\n",
       "      <td>North</td>\n",
       "      <td>Home</td>\n",
       "      <td>2491.26</td>\n",
       "    </tr>\n",
       "    <tr>\n",
       "      <th>8</th>\n",
       "      <td>South</td>\n",
       "      <td>Books</td>\n",
       "      <td>1187.80</td>\n",
       "    </tr>\n",
       "    <tr>\n",
       "      <th>9</th>\n",
       "      <td>South</td>\n",
       "      <td>Clothing</td>\n",
       "      <td>1688.35</td>\n",
       "    </tr>\n",
       "    <tr>\n",
       "      <th>10</th>\n",
       "      <td>South</td>\n",
       "      <td>Electronics</td>\n",
       "      <td>2074.23</td>\n",
       "    </tr>\n",
       "    <tr>\n",
       "      <th>11</th>\n",
       "      <td>South</td>\n",
       "      <td>Home</td>\n",
       "      <td>1966.25</td>\n",
       "    </tr>\n",
       "    <tr>\n",
       "      <th>12</th>\n",
       "      <td>West</td>\n",
       "      <td>Books</td>\n",
       "      <td>2022.89</td>\n",
       "    </tr>\n",
       "    <tr>\n",
       "      <th>13</th>\n",
       "      <td>West</td>\n",
       "      <td>Clothing</td>\n",
       "      <td>2368.17</td>\n",
       "    </tr>\n",
       "    <tr>\n",
       "      <th>14</th>\n",
       "      <td>West</td>\n",
       "      <td>Electronics</td>\n",
       "      <td>2549.34</td>\n",
       "    </tr>\n",
       "    <tr>\n",
       "      <th>15</th>\n",
       "      <td>West</td>\n",
       "      <td>Home</td>\n",
       "      <td>1642.78</td>\n",
       "    </tr>\n",
       "  </tbody>\n",
       "</table>\n",
       "</div>"
      ],
      "text/plain": [
       "   region product_category  sales_amount\n",
       "0    East            Books        963.21\n",
       "1    East         Clothing       2040.18\n",
       "2    East      Electronics       2617.60\n",
       "3    East             Home       2206.30\n",
       "4   North            Books       1121.29\n",
       "5   North         Clothing       2273.95\n",
       "6   North      Electronics       1976.14\n",
       "7   North             Home       2491.26\n",
       "8   South            Books       1187.80\n",
       "9   South         Clothing       1688.35\n",
       "10  South      Electronics       2074.23\n",
       "11  South             Home       1966.25\n",
       "12   West            Books       2022.89\n",
       "13   West         Clothing       2368.17\n",
       "14   West      Electronics       2549.34\n",
       "15   West             Home       1642.78"
      ]
     },
     "execution_count": 14,
     "metadata": {},
     "output_type": "execute_result"
    }
   ],
   "source": [
    "detailed_region = df.groupby(['region','product_category'])['sales_amount'].sum()\n",
    "\n",
    "detailed_region.reset_index()"
   ]
  },
  {
   "cell_type": "code",
   "execution_count": 17,
   "id": "594d89e7-0ba4-4fa7-9140-de4b5ea3d0b8",
   "metadata": {},
   "outputs": [
    {
     "ename": "SpecificationError",
     "evalue": "nested renamer is not supported",
     "output_type": "error",
     "traceback": [
      "\u001b[1;31m---------------------------------------------------------------------------\u001b[0m",
      "\u001b[1;31mSpecificationError\u001b[0m                        Traceback (most recent call last)",
      "Cell \u001b[1;32mIn[17], line 6\u001b[0m\n\u001b[0;32m      2\u001b[0m \u001b[38;5;28;01mdef\u001b[39;00m\u001b[38;5;250m \u001b[39m\u001b[38;5;21msales_range\u001b[39m(x):\n\u001b[0;32m      3\u001b[0m   \u001b[38;5;28;01mreturn\u001b[39;00m x\u001b[38;5;241m.\u001b[39mmax() \u001b[38;5;241m-\u001b[39m x\u001b[38;5;241m.\u001b[39mmin()\n\u001b[1;32m----> 6\u001b[0m custom_agg \u001b[38;5;241m=\u001b[39m df\u001b[38;5;241m.\u001b[39mgroupby(\u001b[38;5;124m'\u001b[39m\u001b[38;5;124mregion\u001b[39m\u001b[38;5;124m'\u001b[39m)[\u001b[38;5;124m'\u001b[39m\u001b[38;5;124msales_amount\u001b[39m\u001b[38;5;124m'\u001b[39m]\u001b[38;5;241m.\u001b[39magg({\n\u001b[0;32m      7\u001b[0m \u001b[38;5;124m'\u001b[39m\u001b[38;5;124mtotal\u001b[39m\u001b[38;5;124m'\u001b[39m: \u001b[38;5;124m'\u001b[39m\u001b[38;5;124msum\u001b[39m\u001b[38;5;124m'\u001b[39m,\n\u001b[0;32m      8\u001b[0m \u001b[38;5;124m'\u001b[39m\u001b[38;5;124maverage\u001b[39m\u001b[38;5;124m'\u001b[39m: \u001b[38;5;124m'\u001b[39m\u001b[38;5;124mmean\u001b[39m\u001b[38;5;124m'\u001b[39m,\n\u001b[0;32m      9\u001b[0m \u001b[38;5;124m'\u001b[39m\u001b[38;5;124mrange\u001b[39m\u001b[38;5;124m'\u001b[39m: sales_range\n\u001b[0;32m     10\u001b[0m })\n",
      "File \u001b[1;32m~\\AppData\\Local\\anaconda3\\Lib\\site-packages\\pandas\\core\\groupby\\generic.py:257\u001b[0m, in \u001b[0;36mSeriesGroupBy.aggregate\u001b[1;34m(self, func, engine, engine_kwargs, *args, **kwargs)\u001b[0m\n\u001b[0;32m    255\u001b[0m kwargs[\u001b[38;5;124m\"\u001b[39m\u001b[38;5;124mengine\u001b[39m\u001b[38;5;124m\"\u001b[39m] \u001b[38;5;241m=\u001b[39m engine\n\u001b[0;32m    256\u001b[0m kwargs[\u001b[38;5;124m\"\u001b[39m\u001b[38;5;124mengine_kwargs\u001b[39m\u001b[38;5;124m\"\u001b[39m] \u001b[38;5;241m=\u001b[39m engine_kwargs\n\u001b[1;32m--> 257\u001b[0m ret \u001b[38;5;241m=\u001b[39m \u001b[38;5;28mself\u001b[39m\u001b[38;5;241m.\u001b[39m_aggregate_multiple_funcs(func, \u001b[38;5;241m*\u001b[39margs, \u001b[38;5;241m*\u001b[39m\u001b[38;5;241m*\u001b[39mkwargs)\n\u001b[0;32m    258\u001b[0m \u001b[38;5;28;01mif\u001b[39;00m relabeling:\n\u001b[0;32m    259\u001b[0m     \u001b[38;5;66;03m# columns is not narrowed by mypy from relabeling flag\u001b[39;00m\n\u001b[0;32m    260\u001b[0m     \u001b[38;5;28;01massert\u001b[39;00m columns \u001b[38;5;129;01mis\u001b[39;00m \u001b[38;5;129;01mnot\u001b[39;00m \u001b[38;5;28;01mNone\u001b[39;00m  \u001b[38;5;66;03m# for mypy\u001b[39;00m\n",
      "File \u001b[1;32m~\\AppData\\Local\\anaconda3\\Lib\\site-packages\\pandas\\core\\groupby\\generic.py:335\u001b[0m, in \u001b[0;36mSeriesGroupBy._aggregate_multiple_funcs\u001b[1;34m(self, arg, *args, **kwargs)\u001b[0m\n\u001b[0;32m    332\u001b[0m \u001b[38;5;28;01mif\u001b[39;00m \u001b[38;5;28misinstance\u001b[39m(arg, \u001b[38;5;28mdict\u001b[39m):\n\u001b[0;32m    333\u001b[0m     \u001b[38;5;28;01mif\u001b[39;00m \u001b[38;5;28mself\u001b[39m\u001b[38;5;241m.\u001b[39mas_index:\n\u001b[0;32m    334\u001b[0m         \u001b[38;5;66;03m# GH 15931\u001b[39;00m\n\u001b[1;32m--> 335\u001b[0m         \u001b[38;5;28;01mraise\u001b[39;00m SpecificationError(\u001b[38;5;124m\"\u001b[39m\u001b[38;5;124mnested renamer is not supported\u001b[39m\u001b[38;5;124m\"\u001b[39m)\n\u001b[0;32m    336\u001b[0m     \u001b[38;5;28;01melse\u001b[39;00m:\n\u001b[0;32m    337\u001b[0m         \u001b[38;5;66;03m# GH#50684 - This accidentally worked in 1.x\u001b[39;00m\n\u001b[0;32m    338\u001b[0m         msg \u001b[38;5;241m=\u001b[39m (\n\u001b[0;32m    339\u001b[0m             \u001b[38;5;124m\"\u001b[39m\u001b[38;5;124mPassing a dictionary to SeriesGroupBy.agg is deprecated \u001b[39m\u001b[38;5;124m\"\u001b[39m\n\u001b[0;32m    340\u001b[0m             \u001b[38;5;124m\"\u001b[39m\u001b[38;5;124mand will raise in a future version of pandas. Pass a list \u001b[39m\u001b[38;5;124m\"\u001b[39m\n\u001b[0;32m    341\u001b[0m             \u001b[38;5;124m\"\u001b[39m\u001b[38;5;124mof aggregations instead.\u001b[39m\u001b[38;5;124m\"\u001b[39m\n\u001b[0;32m    342\u001b[0m         )\n",
      "\u001b[1;31mSpecificationError\u001b[0m: nested renamer is not supported"
     ]
    }
   ],
   "source": [
    "# Create custom aggregation functions\n",
    "def sales_range(x):\n",
    "  return x.max() - x.min()\n",
    "\n",
    "\n",
    "custom_agg = df.groupby('region')['sales_amount'].agg({\n",
    "'total': 'sum',\n",
    "'average': 'mean',\n",
    "'range': sales_range\n",
    "})"
   ]
  },
  {
   "cell_type": "markdown",
   "id": "2034e4ad-4dc7-4ff6-9b8e-2dcff6a196b7",
   "metadata": {},
   "source": [
    "## pivot tables"
   ]
  },
  {
   "cell_type": "code",
   "execution_count": 20,
   "id": "6691d3a8-6aad-4068-954c-370cdbe033fb",
   "metadata": {},
   "outputs": [
    {
     "ename": "TypeError",
     "evalue": "DataFrame.pivot_table() got an unexpected keyword argument 'aggfunction'",
     "output_type": "error",
     "traceback": [
      "\u001b[1;31m---------------------------------------------------------------------------\u001b[0m",
      "\u001b[1;31mTypeError\u001b[0m                                 Traceback (most recent call last)",
      "Cell \u001b[1;32mIn[20], line 1\u001b[0m\n\u001b[1;32m----> 1\u001b[0m pivot_sales\u001b[38;5;241m=\u001b[39mdf\u001b[38;5;241m.\u001b[39mpivot_table(\n\u001b[0;32m      2\u001b[0m     index\u001b[38;5;241m=\u001b[39m \u001b[38;5;124m'\u001b[39m\u001b[38;5;124mregion\u001b[39m\u001b[38;5;124m'\u001b[39m,\n\u001b[0;32m      3\u001b[0m     values\u001b[38;5;241m=\u001b[39m \u001b[38;5;124m'\u001b[39m\u001b[38;5;124msales_amount\u001b[39m\u001b[38;5;124m'\u001b[39m,\n\u001b[0;32m      4\u001b[0m     columns\u001b[38;5;241m=\u001b[39m \u001b[38;5;124m'\u001b[39m\u001b[38;5;124mmonth\u001b[39m\u001b[38;5;124m'\u001b[39m,\n\u001b[0;32m      5\u001b[0m     fill_value\u001b[38;5;241m=\u001b[39m \u001b[38;5;241m0\u001b[39m,\n\u001b[0;32m      6\u001b[0m     aggfunction\u001b[38;5;241m=\u001b[39m \u001b[38;5;124m'\u001b[39m\u001b[38;5;124msum\u001b[39m\u001b[38;5;124m'\u001b[39m\n\u001b[0;32m      7\u001b[0m )\n\u001b[0;32m      9\u001b[0m pivot_sales\n",
      "\u001b[1;31mTypeError\u001b[0m: DataFrame.pivot_table() got an unexpected keyword argument 'aggfunction'"
     ]
    }
   ],
   "source": [
    "pivot_sales=df.pivot_table(\n",
    "    index= 'region',\n",
    "    values= 'sales_amount',\n",
    "    columns= 'month',\n",
    "    fill_value= 0,\n",
    "    aggfunction= 'sum'\n",
    ")\n",
    "\n",
    "pivot_sales"
   ]
  },
  {
   "cell_type": "markdown",
   "id": "865a58dc-f2f2-425c-8e87-70190d61f0c1",
   "metadata": {},
   "source": [
    "### Ranking and Sorting"
   ]
  },
  {
   "cell_type": "code",
   "execution_count": 21,
   "id": "b9e5f5c7-9682-4dcb-80d4-61e2d29b07cb",
   "metadata": {},
   "outputs": [
    {
     "data": {
      "text/plain": [
       "region  product_category\n",
       "East    Electronics         2617.60\n",
       "West    Electronics         2549.34\n",
       "North   Home                2491.26\n",
       "West    Clothing            2368.17\n",
       "North   Clothing            2273.95\n",
       "East    Home                2206.30\n",
       "South   Electronics         2074.23\n",
       "East    Clothing            2040.18\n",
       "West    Books               2022.89\n",
       "North   Electronics         1976.14\n",
       "South   Home                1966.25\n",
       "        Clothing            1688.35\n",
       "West    Home                1642.78\n",
       "South   Books               1187.80\n",
       "North   Books               1121.29\n",
       "East    Books                963.21\n",
       "Name: sales_amount, dtype: float64"
      ]
     },
     "execution_count": 21,
     "metadata": {},
     "output_type": "execute_result"
    }
   ],
   "source": [
    "top_regions= df.groupby(['region','product_category'])['sales_amount'].sum().sort_values(ascending= False)\n",
    "\n",
    "top_regions"
   ]
  },
  {
   "cell_type": "code",
   "execution_count": 22,
   "id": "b4bdb443-f0d0-4ea2-bdd1-48b9ed7b647e",
   "metadata": {},
   "outputs": [],
   "source": [
    "# practise exercise"
   ]
  },
  {
   "cell_type": "markdown",
   "id": "99bb1467-de21-4081-b7c9-612e41e56054",
   "metadata": {},
   "source": [
    "# part B: visualizing data with ,matplotlib and seaborn"
   ]
  },
  {
   "cell_type": "markdown",
   "id": "2c281ad5-c49f-418d-bcec-30620243c2ca",
   "metadata": {},
   "source": [
    "# 📊 Matplotlib Basics"
   ]
  },
  {
   "cell_type": "code",
   "execution_count": 33,
   "id": "08d81742-74a0-44fc-81de-d67fdf2e01c8",
   "metadata": {
    "scrolled": true
   },
   "outputs": [
    {
     "data": {
      "image/png": "[encoded data removed]",
      "text/plain": [
       "<Figure size 400x300 with 1 Axes>"
      ]
     },
     "metadata": {},
     "output_type": "display_data"
    }
   ],
   "source": [
    "plt.figure(figsize=(4,3))\n",
    "plt.plot(sales_per_month.index, sales_per_month.values,color='green',marker='*')\n",
    "plt.title(\"Sales per Month\")\n",
    "plt.xlabel(\"Months\")\n",
    "plt.ylabel(\"Sales\")\n",
    "plt.show()"
   ]
  },
  {
   "cell_type": "code",
   "execution_count": null,
   "id": "f3d49125-e04f-458e-9c51-9f6865f158bf",
   "metadata": {},
   "outputs": [],
   "source": []
  },
  {
   "cell_type": "code",
   "execution_count": null,
   "id": "7b94536a-4447-43fd-89a0-08388dced91d",
   "metadata": {},
   "outputs": [],
   "source": []
  }
 ],
 "metadata": {
  "kernelspec": {
   "display_name": "Python 3 (ipykernel)",
   "language": "python",
   "name": "python3"
  },
  "language_info": {
   "codemirror_mode": {
    "name": "ipython",
    "version": 3
   },
   "file_extension": ".py",
   "mimetype": "text/x-python",
   "name": "python",
   "nbconvert_exporter": "python",
   "pygments_lexer": "ipython3",
   "version": "3.13.5"
  }
 },
 "nbformat": 4,
 "nbformat_minor": 5
}
