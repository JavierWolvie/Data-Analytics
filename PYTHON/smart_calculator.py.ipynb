{
 "cells": [
  {
   "cell_type": "markdown",
   "id": "bb00ab3f-6897-4163-a0c4-f9bcd9558a7b",
   "metadata": {},
   "source": [
    "###### What Are Lists?\n",
    "Imagine you have a shopping list written on paper. Instead of writing each item on a separate piece of\n",
    "paper, you write them all on one list.it's a single variable that can\n",
    "hold multiple pieces of information.\n"
   ]
  },
  {
   "cell_type": "code",
   "execution_count": 2,
   "id": "dde11d03-3575-41d7-b488-b6b0e2b69b6c",
   "metadata": {},
   "outputs": [
    {
     "name": "stdout",
     "output_type": "stream",
     "text": [
      "['apple', 'banana', 'orange', 'orange']\n"
     ]
    }
   ],
   "source": [
    "# Creating lists\n",
    "fruits=[\"apple\",\"banana\",\"orange\",\"orange\"]\n",
    "numbers=[1,5,10,15,20]\n",
    "temperatures=[72.5, 68.9, 75.2, 80.1]\n",
    "mixed_list=[\"Alice\",25,True,5.8] #Lists can hold different types of data\n",
    "print(fruits)\n",
    "\n"
   ]
  },
  {
   "cell_type": "code",
   "execution_count": 8,
   "id": "67b5edb8-74e6-42ff-8bc7-c8ff8ab1d2d7",
   "metadata": {},
   "outputs": [
    {
     "name": "stdout",
     "output_type": "stream",
     "text": [
      "first fruit apple\n",
      "second fruit; banana\n",
      "Last fruit: grape\n",
      "Last fruit: grape\n",
      "second to last fruit: orange\n"
     ]
    }
   ],
   "source": [
    "# Think of list positions like house numbers on a street\n",
    "# Position: 0 1 2 3\n",
    "fruits = [\"apple\", \"banana\", \"orange\", \"grape\"]\n",
    "\n",
    "\n",
    "# Accessing items (counting starts at 0, not 1!)\n",
    "print(\"first fruit\",fruits[0])#shows apple\n",
    "print(\"second fruit;\",fruits[1])#shows banana\n",
    "print(\"Last fruit:\", fruits[3]) # Shows: grape\n",
    "\n",
    "# You can also count backwards from the end\n",
    "print(\"Last fruit:\", fruits[-1])#shows grape\n",
    "print(\"second to last fruit:\",fruits[-2])\n"
   ]
  },
  {
   "cell_type": "markdown",
   "id": "cc46fdf8-f2cc-472b-8f11-28d0fd79ca99",
   "metadata": {},
   "source": [
    "## Working with Lists"
   ]
  },
  {
   "cell_type": "code",
   "execution_count": 15,
   "id": "26488776-4b18-4418-86d0-7129d81aa122",
   "metadata": {},
   "outputs": [
    {
     "name": "stdout",
     "output_type": "stream",
     "text": [
      "Original list: ['milk', 'bread', 'eggs']\n",
      "After adding items: ['milk', 'bread', 'eggs', 'cheese', 'apples']\n"
     ]
    }
   ],
   "source": [
    "# Starting with a shopping list\n",
    "shopping_list=[\"milk\",\"bread\",\"eggs\"]\n",
    "print(\"Original list:\",shopping_list)\n",
    "\n",
    "shopping_list.append(\"cheese\")\n",
    "shopping_list.append(\"apples\")\n",
    "print(\"After adding items:\", shopping_list)"
   ]
  },
  {
   "cell_type": "code",
   "execution_count": 24,
   "id": "93211e79-d1ef-4dc2-9666-a9c90683ee9e",
   "metadata": {},
   "outputs": [
    {
     "name": "stdout",
     "output_type": "stream",
     "text": [
      "after inserting butter ['milk', 'butter', 'butter', 'butter', 'butter', 'butter', 'butter', 'butter', 'eggs', 'cheese', 'apples']\n",
      "after removing bread: ['milk', 'butter', 'butter', 'butter', 'butter', 'butter', 'butter', 'eggs', 'cheese', 'apples']\n",
      "items in list  10\n",
      "Do we have milk? True\n"
     ]
    }
   ],
   "source": [
    "# Inserting items at specific positions\n",
    "shopping_list.insert(1,\"butter\") #insert at position 1\n",
    "print(\"after inserting butter\",shopping_list)\n",
    "\n",
    "# Removing items\n",
    "shopping_list.remove(\"butter\") #removes butter\n",
    "print(\"after removing bread:\",shopping_list)\n",
    "\n",
    "\n",
    "# Finding information about the list\n",
    "list_length=len(shopping_list)\n",
    "print(\"items in list \",list_length)\n",
    "\n",
    "# Checking if something is in the list\n",
    "has_milk=\"milk\" in shopping_list\n",
    "print(\"Do we have milk?\",has_milk)\n"
   ]
  },
  {
   "cell_type": "markdown",
   "id": "7927cdd7-5cc2-4bcb-8595-588b8f0e90e4",
   "metadata": {},
   "source": [
    "## What Are Loops?\n",
    "A loop is like giving your computer instructions to repeat something over and over."
   ]
  },
  {
   "cell_type": "code",
   "execution_count": 30,
   "id": "1deef526-b80b-4ce2-aa27-cfab2f95ef41",
   "metadata": {},
   "outputs": [
    {
     "name": "stdout",
     "output_type": "stream",
     "text": [
      "I like  apple\n",
      "I like banana\n",
      "I like  orange\n",
      "I like  apple\n",
      "I like  banana\n",
      "I like  orange\n"
     ]
    }
   ],
   "source": [
    "# Without a loop (tedious):\n",
    "fruits=[\"apple\",\"banana\",\"orange\"]\n",
    "print(\"I like \",fruits[0])\n",
    "print(\"I like\",fruits[1])\n",
    "print(\"I like \",fruits[2])\n",
    "\n",
    "# With a loop (elegant!):\n",
    "fruits=(\"apple\",\"banana\",\"orange\")\n",
    "for fruit in fruits: \n",
    "    print(\"I like \",fruit)\n",
    "    # The loop automatically goes through each item in the list\n",
    "# 'fruit' is a temporary variable that holds each item one at a time"
   ]
  },
  {
   "cell_type": "markdown",
   "id": "5dd9f67a-3ef2-428a-afff-9614aeecc7df",
   "metadata": {},
   "source": [
    "## Understanding Loop Structure"
   ]
  },
  {
   "cell_type": "code",
   "execution_count": 32,
   "id": "97c5a9a2-dd8c-4ab5-9228-4cee788a13b7",
   "metadata": {},
   "outputs": [
    {
     "name": "stdout",
     "output_type": "stream",
     "text": [
      "My favorite color might be red\n",
      "Actually, let me think about red\n",
      "Am done thing about colors!\n",
      "My favorite color might be blue\n",
      "Actually, let me think about blue\n",
      "Am done thing about colors!\n",
      "My favorite color might be green\n",
      "Actually, let me think about green\n",
      "Am done thing about colors!\n"
     ]
    }
   ],
   "source": [
    "# Loop structure breakdown:\n",
    "colors=[\"red\",\"blue\",\"green\"]\n",
    "for color in colors:\n",
    "    print(\"My favorite color might be\",color)\n",
    "    print(\"Actually, let me think about\",color)\n",
    "\n",
    "    # Everything indented is part of the loo\n",
    "    print(\"Am done thing about colors!\")ven\n",
    "    #not part of the loop\n",
    "    "
   ]
  },
  {
   "cell_type": "markdown",
   "id": "710e868b-e381-498b-a6bb-b33b2d8fab24",
   "metadata": {},
   "source": [
    "## For Loops with Numbers"
   ]
  },
  {
   "cell_type": "code",
   "execution_count": 39,
   "id": "44247f6c-ddd2-4410-859f-676d7b1dc75a",
   "metadata": {},
   "outputs": [
    {
     "name": "stdout",
     "output_type": "stream",
     "text": [
      "count: 0\n",
      "count: 1\n",
      "count: 2\n",
      "count: 3\n",
      "count: 4\n",
      "Number: 1\n",
      "Number: 2\n",
      "Number: 3\n",
      "Number: 4\n",
      "Number: 5\n",
      "even number: 0\n",
      "even number: 2\n",
      "even number: 4\n",
      "even number: 6\n",
      "even number: 8\n",
      "even number: 10\n"
     ]
    }
   ],
   "source": [
    "# Counting from 0 to 4\n",
    "for number in range (5):\n",
    "    print(\"count:\",number)\n",
    "\n",
    "    # Counting from 1 to 5\n",
    "for number in range(1, 6): # range(1, 6) creates [1, 2, 3, 4, 5]\n",
    "     print(\"Number:\", number)# Counting by 2s\n",
    "    \n",
    "\n",
    "    # Counting by 2s\n",
    "for even_number in range(0,11,2): #start stop step\n",
    "    print(\"even number:\",even_number,)\n",
    "    \n"
   ]
  },
  {
   "cell_type": "markdown",
   "id": "18940aeb-3f84-433c-8d9b-543bab4daac4",
   "metadata": {},
   "source": [
    "## Real-World Loop Examples"
   ]
  },
  {
   "cell_type": "code",
   "execution_count": 44,
   "id": "af7f5502-1632-419c-b602-7d590034eadd",
   "metadata": {},
   "outputs": [
    {
     "name": "stdout",
     "output_type": "stream",
     "text": [
      "Individual scores:\n",
      "Score: 85\n",
      "Score: 92\n",
      "Score: 78\n",
      "Score: 96\n",
      "Score: 88\n",
      "Average score: 17.6\n"
     ]
    }
   ],
   "source": [
    "# Example 1: Processing test scores\n",
    "test_scores = [85, 92, 78, 96, 88]\n",
    "total = 0\n",
    "print(\"Individual scores:\")\n",
    "for score in test_scores:\n",
    "   print(f\"Score: {score}\")\n",
    "total = total + score # Add each score to the total\n",
    "average = total / len(test_scores)\n",
    "print(f\"Average score: {average}\")"
   ]
  },
  {
   "cell_type": "code",
   "execution_count": 46,
   "id": "72d93ded-fef2-4826-aab1-be1e31d50c43",
   "metadata": {},
   "outputs": [
    {
     "name": "stdout",
     "output_type": "stream",
     "text": [
      "Thank you for your business!\n",
      "Thank you for your business!\n",
      "Thank you for your business!\n",
      "Best regards, The Team\n",
      "---\n"
     ]
    }
   ],
   "source": [
    "# Example 2: Sending personalized emails (simulation)\n",
    "customers=[\"Javier Akau\",\"Akol Bol\",\"Alier Scott\"]\n",
    "for customer in customers:\n",
    "    print \n",
    "    (f\"Dear{customer},\")\n",
    "    print(\"Thank you for your business!\")\n",
    "print(\"Best regards, The Team\")\n",
    "print(\"---\") # Separator between emails\n"
   ]
  },
  {
   "cell_type": "markdown",
   "id": "c267949f-af90-42e8-afb2-8de7a6150cf4",
   "metadata": {},
   "source": [
    "## What Are Dictionaries?\n",
    "Imagine a real dictionary where you look up a word (like \"apple\") to find its definition.In Python, a\n",
    "dictionary works similarly - you look up a \"key\" (like a word) to find its \"value\" (like the definition)."
   ]
  },
  {
   "cell_type": "code",
   "execution_count": 50,
   "id": "d66de862-b504-46be-872f-c1c79f2b793a",
   "metadata": {},
   "outputs": [
    {
     "name": "stdout",
     "output_type": "stream",
     "text": [
      "Name: Akau Bior\n",
      "Age: 24\n",
      "Job: Teaching\n",
      "Updated person: {'name': 'Akau Bior', 'age': 29, 'city': 'Juba', 'job': 'Teaching', 'salary': 70000}\n"
     ]
    }
   ],
   "source": [
    "# Creating a dictionary - like a mini database\n",
    "person={\n",
    "\"name\":\"Akau Bior\",\n",
    "\"age\":24,\n",
    "\"city\":\"Juba\",\n",
    "\"job\":\"Teaching\",\n",
    "\"salary\":24000\n",
    "}\n",
    "\n",
    "print(\"Name:\",person[\"name\"])\n",
    "print(\"Age:\", person[\"age\"]) # Shows: 24\n",
    "print(\"Job:\", person[\"job\"]) # Shows: Teaching\n",
    "\n",
    "# Adding new information\n",
    "person[\"email\"]:\"akaubior133@gmail.com\"\n",
    "person[\"has_pets\"]:True\n",
    "\n",
    "# Changing existing information\n",
    "person[\"age\"] = 29 # Birthday happened!\n",
    "person[\"salary\"] = 70000 # Got a raise!\n",
    "print(\"Updated person:\", person)\n"
   ]
  },
  {
   "cell_type": "markdown",
   "id": "59fca73e-1371-4734-9d75-16f5acb91710",
   "metadata": {},
   "source": [
    "## Working with dictionaries"
   ]
  },
  {
   "cell_type": "code",
   "execution_count": 54,
   "id": "2407a3cd-8db6-44f8-9eb2-7bb95c2086e6",
   "metadata": {},
   "outputs": [
    {
     "name": "stdout",
     "output_type": "stream",
     "text": [
      "Class Grades:\n",
      "Eva: 89\n",
      "\n",
      "Top student: Carol with 95%\n"
     ]
    }
   ],
   "source": [
    "# Real-world example: Student grades\n",
    "student_grades = {\n",
    "\"Alice\": 92,\n",
    "\"Bob\": 87,\n",
    "\"Carol\": 95,\n",
    "\"David\": 78,\n",
    "\"Eva\": 89\n",
    "}\n",
    "# Print all students and their grades\n",
    "print(\"Class Grades:\")\n",
    "for student in student_grades:\n",
    "   grade = student_grades[student]\n",
    "print(f\"{student}: {grade}\")\n",
    "# Find the highest grade\n",
    "highest_grade = 0\n",
    "best_student = \"\"\n",
    "for student in student_grades:\n",
    "   if student_grades[student] > highest_grade:\n",
    "     highest_grade = student_grades[student]\n",
    "     best_student = student\n",
    "print(f\"\\nTop student: {best_student} with {highest_grade}%\")"
   ]
  },
  {
   "cell_type": "markdown",
   "id": "be4381c8-658a-4470-8819-96582b44bf18",
   "metadata": {},
   "source": [
    "## What Are Functions?\n",
    "Think of a function like a recipe or a tool. Once you write the recipe, you can use it over and over without\n",
    "rewriting all the steps."
   ]
  },
  {
   "cell_type": "code",
   "execution_count": 55,
   "id": "331f6fab-4027-42cf-87cc-cd36f5048b1e",
   "metadata": {},
   "outputs": [
    {
     "name": "stdout",
     "output_type": "stream",
     "text": [
      "Welcome to our store!\n",
      "Thanks for shopping with us!\n",
      "Have a great day!\n",
      "Welcome to our store!\n",
      "Thanks for shopping with us!\n",
      "Have a great day!\n",
      "Welcome to our store!\n",
      "Thanks for shopping with us!\n",
      "Have a great day!\n",
      "Welcome to our store!\n",
      "Thanks for shopping with us!\n",
      "Have a great day\n",
      "Welcome to our store!\n",
      "Thanks for shopping with us!\n",
      "Have a great day\n",
      "Welcome to our store!\n",
      "Thanks for shopping with us!\n",
      "Have a great day\n"
     ]
    }
   ],
   "source": [
    "# Without functions (lots of repeated code):\n",
    "print(\"Welcome to our store!\")\n",
    "print(\"Thanks for shopping with us!\")\n",
    "print(\"Have a great day!\")\n",
    "\n",
    "print(\"Welcome to our store!\")\n",
    "print(\"Thanks for shopping with us!\")\n",
    "print(\"Have a great day!\")\n",
    "\n",
    "print(\"Welcome to our store!\")\n",
    "print(\"Thanks for shopping with us!\")\n",
    "print(\"Have a great day!\")\n",
    "\n",
    "# With a function (write once, use many times):\n",
    "def store_greeting():\n",
    "    print(\"Welcome to our store!\")\n",
    "    print(\"Thanks for shopping with us!\")\n",
    "    print(\"Have a great day\")\n",
    "\n",
    "    # Now use it whenever needed:\n",
    "store_greeting() # Customer 1\n",
    "store_greeting() # Customer 2\n",
    "store_greeting() # Customer 3"
   ]
  },
  {
   "cell_type": "markdown",
   "id": "68361c36-64e4-4e88-a49b-7361fc295954",
   "metadata": {},
   "source": [
    "## Creating Basic Functions"
   ]
  },
  {
   "cell_type": "code",
   "execution_count": 57,
   "id": "f64ab964-ef5a-4e33-bed4-134df42708dc",
   "metadata": {},
   "outputs": [
    {
     "name": "stdout",
     "output_type": "stream",
     "text": [
      "Hello there!\n",
      "How are you today?\n"
     ]
    }
   ],
   "source": [
    "# Function definition (like writing a recipe)\n",
    "def say_hello():\n",
    "  print(\"Hello there!\")\n",
    "  print(\"How are you today?\")\n",
    "\n",
    "# Function call (like following the recipe)\n",
    "say_hello() # This runs the code inside the function"
   ]
  },
  {
   "cell_type": "markdown",
   "id": "ba3897e5-80b7-4f5d-80ae-3ca9d13e0e63",
   "metadata": {},
   "source": [
    "## Functions with Parameters (Customizable Functions)"
   ]
  },
  {
   "cell_type": "code",
   "execution_count": 60,
   "id": "f177bccb-3d60-4120-be65-67291fb0ea8e",
   "metadata": {},
   "outputs": [
    {
     "name": "stdout",
     "output_type": "stream",
     "text": [
      "Hello, Alice!\n",
      "Welcome to our program!\n",
      "Hello, Bob!\n",
      "Welcome to our program!\n",
      "Hello, Carol!\n",
      "Welcome to our program!\n",
      "This is Alice.\n",
      "They are 28 years old.\n",
      "They live in New York.\n",
      "This is Bob.\n",
      "They are 35 years old.\n",
      "They live in Chicago.\n"
     ]
    }
   ],
   "source": [
    "#Parameters are like ingredients you can change in a recipe:\n",
    "def greet_person(name):\n",
    "  print(f\"Hello, {name}!\")\n",
    "  print(\"Welcome to our program!\")\n",
    "\n",
    "\n",
    "# Using the function with different names\n",
    "greet_person(\"Alice\") # Hello, Alice!\n",
    "greet_person(\"Bob\") # Hello, Bob!\n",
    "greet_person(\"Carol\") # Hello, Carol!\n",
    "\n",
    "# Function with multiple parameters\n",
    "def introduce_person(name, age, city):\n",
    "  print(f\"This is {name}.\")\n",
    "  print(f\"They are {age} years old.\")\n",
    "  print(f\"They live in {city}.\")\n",
    "\n",
    "introduce_person(\"Alice\", 28, \"New York\")\n",
    "introduce_person(\"Bob\", 35, \"Chicago\")\n",
    "\n",
    "\n",
    "    "
   ]
  },
  {
   "cell_type": "markdown",
   "id": "ae2e0fbd-94d5-4248-a658-f5edbfb416bf",
   "metadata": {},
   "source": [
    "## Functions that Return Values"
   ]
  },
  {
   "cell_type": "code",
   "execution_count": 61,
   "id": "7f2f6539-e14e-498f-bfb4-3a62d187b4b2",
   "metadata": {},
   "outputs": [],
   "source": [
    "# Function that calculates and returns a result\n",
    "def add_number(numb1,numb2):\n",
    "    result=numb1 + numb2\n",
    "    return result #return result\n",
    "\n",
    "    # Using the returned value\n",
    "sum_result = add_numbers(5, 3)\n",
    "print(\"The sum is:\", sum_result)\n",
    "\n",
    "# More complex example\n",
    "def calculate_tip(bill_amount, tip_percentage):\n",
    "tip = bill_amount * (tip_percentage / 100)\n",
    "total = bill_amount + tip\n",
    "return total\n",
    "\n",
    "# Calculate different tips\n",
    "bill1 = calculate_tip(50, 18) # 18% tip on $50\n",
    "bill2 = calculate_tip(75, 20) # 20% tip on $75\n",
    "\n",
    "print(f\"Bill 1 total: ${bill1}\")\n",
    "print(f\"Bill 2 total: ${bill2}\")\n"
   ]
  },
  {
   "cell_type": "markdown",
   "id": "c28f5f8a-8ec9-4216-bbc5-7d743e852052",
   "metadata": {},
   "source": [
    "## Real-World Function Examples"
   ]
  },
  {
   "cell_type": "code",
   "execution_count": null,
   "id": "821f587e-df06-4446-b214-8ac5c1bd830e",
   "metadata": {},
   "outputs": [],
   "source": [
    "# Function to analyze grades\n",
    "def analyze_grade(score):\n",
    "    if score>=90:\n",
    "        letter=\"A\"\n",
    "        message=\"Excellent work!\"\n",
    "    elif score>=80:\n",
    "        letter=\"B\"\n",
    "        message=\"Good job!\"\n",
    "    elif score>=70:\n",
    "        letter=\"C\"\n",
    "        message=\"Satisfactory\"\n",
    "    elif score>=60:\n",
    "        letter=\"D\"\n",
    "        message=\"Needs to improve\"\n",
    "    elif score>=50:\n",
    "        letter=\"F\"\n",
    "        message=\"Please see the teacher\"\n",
    "\n",
    "        return letter, message # Return multiple values\n",
    "\n",
    "\n",
    "        # Using the function\n",
    "        student_scores = [95, 87, 76, 64, 52]\n",
    "for score in student_scores:\n",
    "     grade, feedback = analyze_grade(score)\n",
    "     print(f\"Score: {score} -> Grade: {grade} ({feedback})\")\n",
    "    \n"
   ]
  }
 ],
 "metadata": {
  "kernelspec": {
   "display_name": "Python 3 (ipykernel)",
   "language": "python",
   "name": "python3"
  },
  "language_info": {
   "codemirror_mode": {
    "name": "ipython",
    "version": 3
   },
   "file_extension": ".py",
   "mimetype": "text/x-python",
   "name": "python",
   "nbconvert_exporter": "python",
   "pygments_lexer": "ipython3",
   "version": "3.13.5"
  }
 },
 "nbformat": 4,
 "nbformat_minor": 5
}
