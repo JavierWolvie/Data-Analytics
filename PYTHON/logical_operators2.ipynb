{
 "cells": [
  {
   "cell_type": "markdown",
   "id": "11b364df-c419-4c52-afaf-4d1bd49811af",
   "metadata": {},
   "source": [
    "#Logical Operators (Combining Multiple Conditions)\n"
   ]
  },
  {
   "cell_type": "code",
   "execution_count": 1,
   "id": "44377ea7-ae3e-43d7-822d-9826b8b0abdc",
   "metadata": {},
   "outputs": [
    {
     "name": "stdout",
     "output_type": "stream",
     "text": [
      "Total use 4500\n"
     ]
    }
   ],
   "source": [
    "#Calculating expenses\n",
    "groceries=500\n",
    "gas=2000\n",
    "rent=2000\n",
    "\n",
    "Total_expenses=groceries +gas+rent\n",
    "print(\"Total use\",Total_expenses,)"
   ]
  },
  {
   "cell_type": "code",
   "execution_count": 2,
   "id": "fdd2c01c-0019-4be3-af13-e32cc84994d6",
   "metadata": {},
   "outputs": [
    {
     "name": "stdout",
     "output_type": "stream",
     "text": [
      "Money left: 2700\n"
     ]
    }
   ],
   "source": [
    "#subtraction\n",
    "Budget=7200\n",
    "\n",
    "leftover=Budget-Total_expenses\n",
    "print(\"Money left:\" ,leftover,)\n"
   ]
  },
  {
   "cell_type": "code",
   "execution_count": 3,
   "id": "a2637f65-46a1-4dad-a35a-cf9b4ea91f1f",
   "metadata": {},
   "outputs": [
    {
     "name": "stdout",
     "output_type": "stream",
     "text": [
      "Monthly coffee cost: 150\n"
     ]
    }
   ],
   "source": [
    "# Multiplication - repeated addition\n",
    "monthly_coffee = 5 # dollars per day\n",
    "days_per_month = 30\n",
    "coffee_budget = monthly_coffee * days_per_month\n",
    "print(\"Monthly coffee cost:\", coffee_budget) "
   ]
  },
  {
   "cell_type": "code",
   "execution_count": 4,
   "id": "26d6824d-ca52-4e45-ba8c-291049c7816d",
   "metadata": {},
   "outputs": [
    {
     "name": "stdout",
     "output_type": "stream",
     "text": [
      "Each person pays 6.0\n"
     ]
    }
   ],
   "source": [
    "# Division - splitting into equal parts\n",
    "pizza_cost=24\n",
    "people=4\n",
    "cost_per_person=pizza_cost/people\n",
    "print(\"Each person pays\", cost_per_person,)"
   ]
  },
  {
   "cell_type": "code",
   "execution_count": 6,
   "id": "56b34cfb-e51b-4b6a-8a4a-8a15b59473da",
   "metadata": {},
   "outputs": [
    {
     "name": "stdout",
     "output_type": "stream",
     "text": [
      "Each person gets 4\n"
     ]
    }
   ],
   "source": [
    "# Integer Division - division that gives whole numbers only\n",
    "total_cookies=23\n",
    "people=5\n",
    "cookies_per_person=total_cookies//people\n",
    "print(\"Each person gets\",cookies_per_person)\n"
   ]
  },
  {
   "cell_type": "code",
   "execution_count": 8,
   "id": "2f3ccd56-340d-4c9e-b7e7-afd9eaef2248",
   "metadata": {},
   "outputs": [
    {
     "name": "stdout",
     "output_type": "stream",
     "text": [
      "cookies left 3\n"
     ]
    }
   ],
   "source": [
    "# Remainder (Modulo) - what's left over after division\n",
    "leftover_cookies=total_cookies%people\n",
    "print(\"cookies left\" ,leftover_cookies,)"
   ]
  },
  {
   "cell_type": "code",
   "execution_count": 11,
   "id": "1245cd12-a2f4-4903-928b-d838fa0edba9",
   "metadata": {},
   "outputs": [
    {
     "name": "stdout",
     "output_type": "stream",
     "text": [
      "Area 100 square feet\n",
      "Volume: 125 cubic feet\n"
     ]
    }
   ],
   "source": [
    "# Exponentiation (Power) - multiplying a number by itself\n",
    "square_footage=10**2\n",
    "print(\"Area\",square_footage,\"square feet\")\n",
    "cube_volume = 5 ** 3 # 5 cubed (5 × 5 × 5)\n",
    "print(\"Volume:\", cube_volume, \"cubic feet\") # Shows: 125"
   ]
  },
  {
   "cell_type": "markdown",
   "id": "c90a0703-e0b1-4304-9c1c-c4da9f98feac",
   "metadata": {},
   "source": [
    "Comparison Operators (Asking Questions About Data)\n",
    "These operators help you compare things and get True/False answers:\n"
   ]
  },
  {
   "cell_type": "code",
   "execution_count": 16,
   "id": "1d34d143-4ce7-4a64-b07c-9c270ca55bed",
   "metadata": {},
   "outputs": [
    {
     "name": "stdout",
     "output_type": "stream",
     "text": [
      "We are the same age: False\n",
      "Do we have different ages? True\n"
     ]
    }
   ],
   "source": [
    "# Let's compare ages\n",
    "my_age = 25\n",
    "friend_age = 28\n",
    "voting_age = 18\n",
    "# Equal to - are they exactly the same?\n",
    "same_age=my_age==friend_age\n",
    "print(\"We are the same age:\",same_age)\n",
    "\n",
    "# Not equal to - are they different?\n",
    "different_ages = my_age != friend_age\n",
    "print(\"Do we have different ages?\", different_ages) "
   ]
  },
  {
   "cell_type": "code",
   "execution_count": 17,
   "id": "d21b11a7-ad07-4cfc-b485-986f14ab2257",
   "metadata": {},
   "outputs": [
    {
     "name": "stdout",
     "output_type": "stream",
     "text": [
      "Am younger: 3\n"
     ]
    }
   ],
   "source": [
    "# Less than - is the first number smaller?\n",
    "am_i_younger= friend_age- my_age\n",
    "print(\"Am younger:\",am_i_younger,)"
   ]
  },
  {
   "cell_type": "code",
   "execution_count": 18,
   "id": "56e09d32-d9a8-457b-bb56-2339431ec91d",
   "metadata": {},
   "outputs": [
    {
     "name": "stdout",
     "output_type": "stream",
     "text": [
      "Can I vote? True\n"
     ]
    }
   ],
   "source": [
    "# Less than or equal to\n",
    "can_i_vote = my_age >= voting_age\n",
    "print(\"Can I vote?\", can_i_vote) "
   ]
  },
  {
   "cell_type": "code",
   "execution_count": 21,
   "id": "0ac5ea9f-0fb3-4335-ab10-79ee744f891f",
   "metadata": {},
   "outputs": [
    {
     "name": "stdout",
     "output_type": "stream",
     "text": [
      "Did i pass: True\n"
     ]
    }
   ],
   "source": [
    "# Checking test scores\n",
    "test_score = 85\n",
    "passing_score = 70\n",
    "did_pass=test_score >= passing_score\n",
    "print(\"Did i pass:\",did_pass,)"
   ]
  },
  {
   "cell_type": "code",
   "execution_count": 22,
   "id": "cbcc8574-f706-4b91-8db0-d0bf9c9d9cd4",
   "metadata": {},
   "outputs": [
    {
     "name": "stdout",
     "output_type": "stream",
     "text": [
      "Can drive True\n"
     ]
    }
   ],
   "source": [
    "#The and Operator (ALL conditions must be true)\n",
    "age = 20\n",
    "has_license = True\n",
    "can_drive=age>=18 and has_license\n",
    "print(\"Can drive\" ,can_drive,)"
   ]
  },
  {
   "cell_type": "code",
   "execution_count": null,
   "id": "2467d7fd-cbce-4a87-8bcd-d220ee222d50",
   "metadata": {},
   "outputs": [],
   "source": []
  }
 ],
 "metadata": {
  "kernelspec": {
   "display_name": "Python [conda env:base] *",
   "language": "python",
   "name": "conda-base-py"
  },
  "language_info": {
   "codemirror_mode": {
    "name": "ipython",
    "version": 3
   },
   "file_extension": ".py",
   "mimetype": "text/x-python",
   "name": "python",
   "nbconvert_exporter": "python",
   "pygments_lexer": "ipython3",
   "version": "3.13.5"
  }
 },
 "nbformat": 4,
 "nbformat_minor": 5
}
