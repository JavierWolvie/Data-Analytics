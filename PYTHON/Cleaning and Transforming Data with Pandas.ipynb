{
 "cells": [
  {
   "cell_type": "markdown",
   "id": "70287254-34fb-4425-b104-68fd114c6783",
   "metadata": {},
   "source": [
    "# Identifying and Handling Missing Data\n",
    "# step 1 Finding missing values"
   ]
  },
  {
   "cell_type": "code",
   "execution_count": 1,
   "id": "3ffb72a7-502b-4769-8c55-63e2aa0b4be7",
   "metadata": {},
   "outputs": [],
   "source": [
    "#import libraries\n",
    "\n",
    "import pandas as pd\n",
    "import numpy as np"
   ]
  },
  {
   "cell_type": "code",
   "execution_count": 4,
   "id": "58257a73-8d17-4bfe-a0c1-675cfb1457cc",
   "metadata": {},
   "outputs": [
    {
     "data": {
      "text/html": [
       "<div>\n",
       "<style scoped>\n",
       "    .dataframe tbody tr th:only-of-type {\n",
       "        vertical-align: middle;\n",
       "    }\n",
       "\n",
       "    .dataframe tbody tr th {\n",
       "        vertical-align: top;\n",
       "    }\n",
       "\n",
       "    .dataframe thead th {\n",
       "        text-align: right;\n",
       "    }\n",
       "</style>\n",
       "<table border=\"1\" class=\"dataframe\">\n",
       "  <thead>\n",
       "    <tr style=\"text-align: right;\">\n",
       "      <th></th>\n",
       "      <th>customer_id</th>\n",
       "      <th>Product Name</th>\n",
       "      <th>Price</th>\n",
       "      <th>Quantity</th>\n",
       "      <th>Customer_Type</th>\n",
       "      <th>Order_Date</th>\n",
       "      <th>customer_email</th>\n",
       "    </tr>\n",
       "  </thead>\n",
       "  <tbody>\n",
       "    <tr>\n",
       "      <th>0</th>\n",
       "      <td>1027</td>\n",
       "      <td>laptop</td>\n",
       "      <td>169.12</td>\n",
       "      <td>3</td>\n",
       "      <td>PREMIUM</td>\n",
       "      <td>NaN</td>\n",
       "      <td>bob@email.com</td>\n",
       "    </tr>\n",
       "    <tr>\n",
       "      <th>1</th>\n",
       "      <td>1046</td>\n",
       "      <td>Smartphone</td>\n",
       "      <td>1189.32</td>\n",
       "      <td>4</td>\n",
       "      <td>PREMIUM</td>\n",
       "      <td>NaN</td>\n",
       "      <td>charlie@email.com</td>\n",
       "    </tr>\n",
       "    <tr>\n",
       "      <th>2</th>\n",
       "      <td>1097</td>\n",
       "      <td>MOUSE</td>\n",
       "      <td>MISSING</td>\n",
       "      <td>2</td>\n",
       "      <td>Regular</td>\n",
       "      <td>2024-01-06</td>\n",
       "      <td>eve@email.com</td>\n",
       "    </tr>\n",
       "    <tr>\n",
       "      <th>3</th>\n",
       "      <td>1042</td>\n",
       "      <td>laptop</td>\n",
       "      <td>MISSING</td>\n",
       "      <td>5</td>\n",
       "      <td>Premium</td>\n",
       "      <td>2024-01-21</td>\n",
       "      <td>alice@email.com</td>\n",
       "    </tr>\n",
       "    <tr>\n",
       "      <th>4</th>\n",
       "      <td>1045</td>\n",
       "      <td>headphones</td>\n",
       "      <td>MISSING</td>\n",
       "      <td>3</td>\n",
       "      <td>regular</td>\n",
       "      <td>2024-01-04</td>\n",
       "      <td>charlie@email.com</td>\n",
       "    </tr>\n",
       "  </tbody>\n",
       "</table>\n",
       "</div>"
      ],
      "text/plain": [
       "   customer_id  Product Name     Price  Quantity Customer_Type  Order_Date  \\\n",
       "0         1027         laptop   169.12         3       PREMIUM         NaN   \n",
       "1         1046     Smartphone  1189.32         4       PREMIUM         NaN   \n",
       "2         1097          MOUSE  MISSING         2       Regular  2024-01-06   \n",
       "3         1042         laptop  MISSING         5       Premium  2024-01-21   \n",
       "4         1045     headphones  MISSING         3       regular  2024-01-04   \n",
       "\n",
       "     customer_email   \n",
       "0      bob@email.com  \n",
       "1  charlie@email.com  \n",
       "2      eve@email.com  \n",
       "3    alice@email.com  \n",
       "4  charlie@email.com  "
      ]
     },
     "execution_count": 4,
     "metadata": {},
     "output_type": "execute_result"
    }
   ],
   "source": [
    "#Load dataset\n",
    "\n",
    "df=pd.read_csv('data_cleaning_in_python.csv')\n",
    "df.head(5)"
   ]
  },
  {
   "cell_type": "code",
   "execution_count": 5,
   "id": "21a57fb5-3240-4969-8dd7-9d8b3fc6f940",
   "metadata": {},
   "outputs": [
    {
     "name": "stdout",
     "output_type": "stream",
     "text": [
      "<class 'pandas.core.frame.DataFrame'>\n",
      "RangeIndex: 230 entries, 0 to 229\n",
      "Data columns (total 7 columns):\n",
      " #   Column            Non-Null Count  Dtype \n",
      "---  ------            --------------  ----- \n",
      " 0   customer_id       230 non-null    int64 \n",
      " 1    Product Name     230 non-null    object\n",
      " 2   Price             230 non-null    object\n",
      " 3   Quantity          230 non-null    int64 \n",
      " 4   Customer_Type     230 non-null    object\n",
      " 5   Order_Date        99 non-null     object\n",
      " 6    customer_email   230 non-null    object\n",
      "dtypes: int64(2), object(5)\n",
      "memory usage: 12.7+ KB\n"
     ]
    }
   ],
   "source": [
    "# info about the df\n",
    "df.info()"
   ]
  },
  {
   "cell_type": "code",
   "execution_count": 6,
   "id": "65fdf43b-4ef8-4ccb-a00c-106e7d11aa51",
   "metadata": {},
   "outputs": [
    {
     "data": {
      "text/plain": [
       "customer_id           0\n",
       " Product Name         0\n",
       "Price                 0\n",
       "Quantity              0\n",
       "Customer_Type         0\n",
       "Order_Date          131\n",
       " customer_email       0\n",
       "dtype: int64"
      ]
     },
     "execution_count": 6,
     "metadata": {},
     "output_type": "execute_result"
    }
   ],
   "source": [
    "#missing values\n",
    "df.isnull().sum()"
   ]
  },
  {
   "cell_type": "code",
   "execution_count": 7,
   "id": "2a1510a4-4a16-4929-89c9-f5990697cc16",
   "metadata": {},
   "outputs": [
    {
     "name": "stdout",
     "output_type": "stream",
     "text": [
      "\n",
      "Other forms of missing data:\n",
      "'MISSING' values in Price column: 118\n",
      "Empty strings in Order_Date: 0\n"
     ]
    }
   ],
   "source": [
    "# Let's also check for 'MISSING' and empty strings\n",
    "print(\"\\nOther forms of missing data:\")\n",
    "print(\"'MISSING' values in Price column:\", (df['Price'] == 'MISSING').sum())\n",
    "print(\"Empty strings in Order_Date:\", (df['Order_Date'] == '').sum())"
   ]
  },
  {
   "cell_type": "markdown",
   "id": "5fb409b4-dc1d-4c29-adf9-77d6fdd3e1d2",
   "metadata": {},
   "source": [
    "## Step 2: Cleaning Missing Data"
   ]
  },
  {
   "cell_type": "code",
   "execution_count": 9,
   "id": "d9ed9186-4b5b-4e13-83f3-fe65132c38ba",
   "metadata": {},
   "outputs": [],
   "source": [
    "# First, let's replace 'MISSING' and empty strings with actual NaN valuespr\n",
    "\n",
    "df['Price'] = df['Price'].replace('MISSING', np.nan)"
   ]
  },
  {
   "cell_type": "code",
   "execution_count": 10,
   "id": "ae7ad755-d7dc-4f51-a9d1-49de24395f5d",
   "metadata": {},
   "outputs": [
    {
     "data": {
      "text/plain": [
       "customer_id           0\n",
       " Product Name         0\n",
       "Price               118\n",
       "Quantity              0\n",
       "Customer_Type         0\n",
       "Order_Date          131\n",
       " customer_email       0\n",
       "dtype: int64"
      ]
     },
     "execution_count": 10,
     "metadata": {},
     "output_type": "execute_result"
    }
   ],
   "source": [
    "df.isnull().sum()"
   ]
  },
  {
   "cell_type": "code",
   "execution_count": 12,
   "id": "f022c542-d910-4dcd-8876-b26060f8eedd",
   "metadata": {},
   "outputs": [
    {
     "data": {
      "text/plain": [
       "(49, 7)"
      ]
     },
     "execution_count": 12,
     "metadata": {},
     "output_type": "execute_result"
    }
   ],
   "source": [
    "# Strategy 1: Drop rows with missing values (use carefully!)\n",
    "df_drop_missing = df.dropna()\n",
    "\n",
    "\n",
    "df_drop_missing.shape"
   ]
  },
  {
   "cell_type": "code",
   "execution_count": 13,
   "id": "a2580f47-71c3-49c3-ad87-13e3e65955b6",
   "metadata": {},
   "outputs": [],
   "source": [
    "# Strategy 2: Fill missing values with appropriate replacements\n",
    "df_filled = df.copy()"
   ]
  },
  {
   "cell_type": "code",
   "execution_count": 15,
   "id": "19b1d7f5-b9c7-4a16-8e9b-f7bb61186885",
   "metadata": {},
   "outputs": [],
   "source": [
    "# Fill missing prices with the median price (after converting to numeric)\n",
    "\n",
    "#convert price to numeric column\n",
    "df_filled['Price'] = pd.to_numeric(df_filled['Price'], errors='coerce')"
   ]
  },
  {
   "cell_type": "code",
   "execution_count": 17,
   "id": "6aeb4b0a-0fd5-43a8-946e-f67b1451abd2",
   "metadata": {},
   "outputs": [],
   "source": [
    "# Calculate median price\n",
    "\n",
    "median_price= df_filled['Price'].median()"
   ]
  },
  {
   "cell_type": "code",
   "execution_count": 20,
   "id": "23aba5b3-81a1-4e39-a3f6-0c3948040758",
   "metadata": {},
   "outputs": [],
   "source": [
    "#replace missing price with median price\n",
    "df_filled['Price']= df_filled['Price'].fillna(median_price)"
   ]
  },
  {
   "cell_type": "code",
   "execution_count": 21,
   "id": "58138607-a739-45ea-830d-71b224e12023",
   "metadata": {},
   "outputs": [
    {
     "data": {
      "text/plain": [
       "customer_id           0\n",
       " Product Name         0\n",
       "Price                 0\n",
       "Quantity              0\n",
       "Customer_Type         0\n",
       "Order_Date          131\n",
       " customer_email       0\n",
       "dtype: int64"
      ]
     },
     "execution_count": 21,
     "metadata": {},
     "output_type": "execute_result"
    }
   ],
   "source": [
    "df_filled.isnull().sum()"
   ]
  },
  {
   "cell_type": "code",
   "execution_count": 24,
   "id": "aeeffe30-878d-4526-a3d0-aca0ca38a453",
   "metadata": {},
   "outputs": [],
   "source": [
    "df_filled['Order_Date']= df_filled['Order_Date'].fillna('2024-01-22')"
   ]
  },
  {
   "cell_type": "code",
   "execution_count": 25,
   "id": "34922fa4-6635-405b-8d89-48bf70fb4aee",
   "metadata": {},
   "outputs": [
    {
     "data": {
      "text/plain": [
       "customer_id         0\n",
       " Product Name       0\n",
       "Price               0\n",
       "Quantity            0\n",
       "Customer_Type       0\n",
       "Order_Date          0\n",
       " customer_email     0\n",
       "dtype: int64"
      ]
     },
     "execution_count": 25,
     "metadata": {},
     "output_type": "execute_result"
    }
   ],
   "source": [
    "df_filled.isnull().sum()"
   ]
  },
  {
   "cell_type": "markdown",
   "id": "2ca8b6f3-4716-40a7-a4d6-0dcddcdde5a8",
   "metadata": {},
   "source": [
    "## ️ Cleaning Column Names and Data Types\n",
    "### Fixing column names"
   ]
  },
  {
   "cell_type": "code",
   "execution_count": 26,
   "id": "15ddc657-569a-458d-a675-ace05e99c8ec",
   "metadata": {},
   "outputs": [
    {
     "data": {
      "text/plain": [
       "Index(['customer_id', ' Product Name ', 'Price', 'Quantity', 'Customer_Type',\n",
       "       'Order_Date', ' customer_email '],\n",
       "      dtype='object')"
      ]
     },
     "execution_count": 26,
     "metadata": {},
     "output_type": "execute_result"
    }
   ],
   "source": [
    "df_filled.columns"
   ]
  },
  {
   "cell_type": "code",
   "execution_count": 27,
   "id": "10e61e48-ec09-4d3d-b913-4883c5b96d7f",
   "metadata": {},
   "outputs": [],
   "source": [
    "# Method 1: Strip spaces and standardize\n",
    "df_filled.columns = df_filled.columns.str.strip() # Remove leading/trailing spaces"
   ]
  },
  {
   "cell_type": "code",
   "execution_count": 28,
   "id": "7882393e-395b-492a-9e0c-a171690321c9",
   "metadata": {},
   "outputs": [
    {
     "data": {
      "text/plain": [
       "Index(['customer_id', 'Product Name', 'Price', 'Quantity', 'Customer_Type',\n",
       "       'Order_Date', 'customer_email'],\n",
       "      dtype='object')"
      ]
     },
     "execution_count": 28,
     "metadata": {},
     "output_type": "execute_result"
    }
   ],
   "source": [
    "df_filled.columns"
   ]
  },
  {
   "cell_type": "code",
   "execution_count": 29,
   "id": "c1c6db6c-32d2-46c6-ada2-f6e8a6d8ed97",
   "metadata": {},
   "outputs": [
    {
     "data": {
      "text/plain": [
       "Index(['customer_id', 'product_names', 'price', 'quantity', 'Customer_Type',\n",
       "       'Order_Date', 'customer_email'],\n",
       "      dtype='object')"
      ]
     },
     "execution_count": 29,
     "metadata": {},
     "output_type": "execute_result"
    }
   ],
   "source": [
    "df_filled=df_filled.rename(columns= {\n",
    "    \"Product Name\" : \"product_names\",\n",
    "    \"Price\" : \"price\",\n",
    "    \"Quantity\" : \"quantity\",\n",
    "    \"Customer Type\" : \"customer_type\"\n",
    "})\n",
    "\n",
    "df_filled.columns"
   ]
  },
  {
   "cell_type": "markdown",
   "id": "a7c3f0d8-579a-493a-bb95-61fa1a6266ff",
   "metadata": {},
   "source": [
    "# cleaning data text"
   ]
  },
  {
   "cell_type": "code",
   "execution_count": 30,
   "id": "b32240a2-c563-498a-acfd-5b10adc81279",
   "metadata": {},
   "outputs": [
    {
     "data": {
      "text/html": [
       "<div>\n",
       "<style scoped>\n",
       "    .dataframe tbody tr th:only-of-type {\n",
       "        vertical-align: middle;\n",
       "    }\n",
       "\n",
       "    .dataframe tbody tr th {\n",
       "        vertical-align: top;\n",
       "    }\n",
       "\n",
       "    .dataframe thead th {\n",
       "        text-align: right;\n",
       "    }\n",
       "</style>\n",
       "<table border=\"1\" class=\"dataframe\">\n",
       "  <thead>\n",
       "    <tr style=\"text-align: right;\">\n",
       "      <th></th>\n",
       "      <th>customer_id</th>\n",
       "      <th>product_names</th>\n",
       "      <th>price</th>\n",
       "      <th>quantity</th>\n",
       "      <th>Customer_Type</th>\n",
       "      <th>Order_Date</th>\n",
       "      <th>customer_email</th>\n",
       "    </tr>\n",
       "  </thead>\n",
       "  <tbody>\n",
       "    <tr>\n",
       "      <th>0</th>\n",
       "      <td>1027</td>\n",
       "      <td>laptop</td>\n",
       "      <td>169.120</td>\n",
       "      <td>3</td>\n",
       "      <td>PREMIUM</td>\n",
       "      <td>2024-01-22</td>\n",
       "      <td>bob@email.com</td>\n",
       "    </tr>\n",
       "    <tr>\n",
       "      <th>1</th>\n",
       "      <td>1046</td>\n",
       "      <td>Smartphone</td>\n",
       "      <td>1189.320</td>\n",
       "      <td>4</td>\n",
       "      <td>PREMIUM</td>\n",
       "      <td>2024-01-22</td>\n",
       "      <td>charlie@email.com</td>\n",
       "    </tr>\n",
       "    <tr>\n",
       "      <th>2</th>\n",
       "      <td>1097</td>\n",
       "      <td>MOUSE</td>\n",
       "      <td>527.895</td>\n",
       "      <td>2</td>\n",
       "      <td>Regular</td>\n",
       "      <td>2024-01-06</td>\n",
       "      <td>eve@email.com</td>\n",
       "    </tr>\n",
       "    <tr>\n",
       "      <th>3</th>\n",
       "      <td>1042</td>\n",
       "      <td>laptop</td>\n",
       "      <td>527.895</td>\n",
       "      <td>5</td>\n",
       "      <td>Premium</td>\n",
       "      <td>2024-01-21</td>\n",
       "      <td>alice@email.com</td>\n",
       "    </tr>\n",
       "    <tr>\n",
       "      <th>4</th>\n",
       "      <td>1045</td>\n",
       "      <td>headphones</td>\n",
       "      <td>527.895</td>\n",
       "      <td>3</td>\n",
       "      <td>regular</td>\n",
       "      <td>2024-01-04</td>\n",
       "      <td>charlie@email.com</td>\n",
       "    </tr>\n",
       "  </tbody>\n",
       "</table>\n",
       "</div>"
      ],
      "text/plain": [
       "   customer_id product_names     price  quantity Customer_Type  Order_Date  \\\n",
       "0         1027        laptop   169.120         3       PREMIUM  2024-01-22   \n",
       "1         1046    Smartphone  1189.320         4       PREMIUM  2024-01-22   \n",
       "2         1097         MOUSE   527.895         2       Regular  2024-01-06   \n",
       "3         1042        laptop   527.895         5       Premium  2024-01-21   \n",
       "4         1045    headphones   527.895         3       regular  2024-01-04   \n",
       "\n",
       "      customer_email  \n",
       "0      bob@email.com  \n",
       "1  charlie@email.com  \n",
       "2      eve@email.com  \n",
       "3    alice@email.com  \n",
       "4  charlie@email.com  "
      ]
     },
     "execution_count": 30,
     "metadata": {},
     "output_type": "execute_result"
    }
   ],
   "source": [
    "df_filled.head()"
   ]
  },
  {
   "cell_type": "markdown",
   "id": "eedff6dc-2cfe-4f05-838c-1af0f66c56cf",
   "metadata": {},
   "source": [
    " ## 🧽 Cleaning Text Data\n",
    "### Standardizing Text Fields"
   ]
  },
  {
   "cell_type": "code",
   "execution_count": 32,
   "id": "e849ba28-c76a-45f8-b013-6d099e363e09",
   "metadata": {},
   "outputs": [
    {
     "name": "stdout",
     "output_type": "stream",
     "text": [
      "Get duplicates\n",
      "10\n"
     ]
    }
   ],
   "source": [
    "print(\"Get duplicates\")\n",
    "\n",
    "print(df_filled.duplicated().sum())"
   ]
  },
  {
   "cell_type": "code",
   "execution_count": 33,
   "id": "7e4e331a-806a-4038-82ba-583f3f869d61",
   "metadata": {},
   "outputs": [
    {
     "ename": "AttributeError",
     "evalue": "'DataFrame' object has no attribute 'duplicates'",
     "output_type": "error",
     "traceback": [
      "\u001b[1;31m---------------------------------------------------------------------------\u001b[0m",
      "\u001b[1;31mAttributeError\u001b[0m                            Traceback (most recent call last)",
      "\u001b[1;32m~\\AppData\\Local\\Temp\\ipykernel_12948\\1248735446.py\u001b[0m in \u001b[0;36m?\u001b[1;34m()\u001b[0m\n\u001b[1;32m----> 1\u001b[1;33m \u001b[0mdf_filled\u001b[0m\u001b[1;33m=\u001b[0m\u001b[0mdf_filled\u001b[0m\u001b[1;33m.\u001b[0m\u001b[0mduplicates\u001b[0m\u001b[1;33m(\u001b[0m\u001b[1;33m)\u001b[0m\u001b[1;33m.\u001b[0m\u001b[0msum\u001b[0m\u001b[1;33m(\u001b[0m\u001b[1;33m)\u001b[0m\u001b[1;33m\u001b[0m\u001b[1;33m\u001b[0m\u001b[0m\n\u001b[0m\u001b[0;32m      2\u001b[0m \u001b[1;33m\u001b[0m\u001b[0m\n\u001b[0;32m      3\u001b[0m \u001b[0mprint\u001b[0m\u001b[1;33m(\u001b[0m\u001b[1;34m\"duplicate rows:\"\u001b[0m\u001b[1;33m,\u001b[0m\u001b[0mprint\u001b[0m\u001b[1;33m(\u001b[0m\u001b[0mdf_filled\u001b[0m\u001b[1;33m.\u001b[0m\u001b[0mduplicated\u001b[0m\u001b[1;33m(\u001b[0m\u001b[1;33m)\u001b[0m\u001b[1;33m.\u001b[0m\u001b[0msum\u001b[0m\u001b[1;33m(\u001b[0m\u001b[1;33m)\u001b[0m\u001b[1;33m)\u001b[0m\u001b[1;33m)\u001b[0m\u001b[1;33m\u001b[0m\u001b[1;33m\u001b[0m\u001b[0m\n",
      "\u001b[1;32m~\\AppData\\Local\\anaconda3\\Lib\\site-packages\\pandas\\core\\generic.py\u001b[0m in \u001b[0;36m?\u001b[1;34m(self, name)\u001b[0m\n\u001b[0;32m   6295\u001b[0m             \u001b[1;32mand\u001b[0m \u001b[0mname\u001b[0m \u001b[1;32mnot\u001b[0m \u001b[1;32min\u001b[0m \u001b[0mself\u001b[0m\u001b[1;33m.\u001b[0m\u001b[0m_accessors\u001b[0m\u001b[1;33m\u001b[0m\u001b[1;33m\u001b[0m\u001b[0m\n\u001b[0;32m   6296\u001b[0m             \u001b[1;32mand\u001b[0m \u001b[0mself\u001b[0m\u001b[1;33m.\u001b[0m\u001b[0m_info_axis\u001b[0m\u001b[1;33m.\u001b[0m\u001b[0m_can_hold_identifiers_and_holds_name\u001b[0m\u001b[1;33m(\u001b[0m\u001b[0mname\u001b[0m\u001b[1;33m)\u001b[0m\u001b[1;33m\u001b[0m\u001b[1;33m\u001b[0m\u001b[0m\n\u001b[0;32m   6297\u001b[0m         \u001b[1;33m)\u001b[0m\u001b[1;33m:\u001b[0m\u001b[1;33m\u001b[0m\u001b[1;33m\u001b[0m\u001b[0m\n\u001b[0;32m   6298\u001b[0m             \u001b[1;32mreturn\u001b[0m \u001b[0mself\u001b[0m\u001b[1;33m[\u001b[0m\u001b[0mname\u001b[0m\u001b[1;33m]\u001b[0m\u001b[1;33m\u001b[0m\u001b[1;33m\u001b[0m\u001b[0m\n\u001b[1;32m-> 6299\u001b[1;33m         \u001b[1;32mreturn\u001b[0m \u001b[0mobject\u001b[0m\u001b[1;33m.\u001b[0m\u001b[0m__getattribute__\u001b[0m\u001b[1;33m(\u001b[0m\u001b[0mself\u001b[0m\u001b[1;33m,\u001b[0m \u001b[0mname\u001b[0m\u001b[1;33m)\u001b[0m\u001b[1;33m\u001b[0m\u001b[1;33m\u001b[0m\u001b[0m\n\u001b[0m",
      "\u001b[1;31mAttributeError\u001b[0m: 'DataFrame' object has no attribute 'duplicates'"
     ]
    }
   ],
   "source": [
    "df_filled=df_filled.duplicates().sum()\n",
    "\n",
    "print(\"duplicate rows:\",print(df_filled.duplicated().sum()))"
   ]
  },
  {
   "cell_type": "code",
   "execution_count": null,
   "id": "97a3b99c-1694-473d-afe1-3f2d5318dc41",
   "metadata": {},
   "outputs": [],
   "source": []
  }
 ],
 "metadata": {
  "kernelspec": {
   "display_name": "Python 3 (ipykernel)",
   "language": "python",
   "name": "python3"
  },
  "language_info": {
   "codemirror_mode": {
    "name": "ipython",
    "version": 3
   },
   "file_extension": ".py",
   "mimetype": "text/x-python",
   "name": "python",
   "nbconvert_exporter": "python",
   "pygments_lexer": "ipython3",
   "version": "3.13.5"
  }
 },
 "nbformat": 4,
 "nbformat_minor": 5
}
