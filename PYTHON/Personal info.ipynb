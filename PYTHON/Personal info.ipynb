{
 "cells": [
  {
   "cell_type": "markdown",
   "id": "3240834d",
   "metadata": {},
   "source": [
    "#Assignment 1: Introduction to Python\n",
    "Ask the user for information\n"
   ]
  },
  {
   "cell_type": "markdown",
   "id": "8efe1717",
   "metadata": {},
   "source": [
    "1. Asks the user for their first name, last name, age, and favorite hobby"
   ]
  },
  {
   "cell_type": "code",
   "execution_count": null,
   "id": "eab6b10b",
   "metadata": {},
   "outputs": [
    {
     "name": "stdout",
     "output_type": "stream",
     "text": [
      "Let us get to know you\n"
     ]
    }
   ],
   "source": [
    "\n",
    "First_name=input(\"what is your first name?\")\n",
    "Last_name=input(\"What is your last name?\")\n",
    "Age=input(\"How old are you?\")\n",
    "Favorite_Hobby=input(\"What is your favorite hobby?\")\n",
    "\n",
    "#Converting age to number\n",
    "\n",
    "age_number=int(Age)\n",
    "\n",
    "#Putting their names together\n",
    "full_name=First_name+\" \"+Last_name\n",
    "\n"
   ]
  },
  {
   "cell_type": "code",
   "execution_count": null,
   "id": "d5a1d12b",
   "metadata": {},
   "outputs": [],
   "source": [
    "#2. Convert their age to a number and calculate how old they will be in 5,10 2nd 20 years time\n",
    "\n",
    "age_number=int(Age)\n",
    "#next year age\n",
    "age=age_number+1\n",
    "#in 5 years\n",
    "age=age_number+5\n",
    "\n",
    "#in 10 years\n",
    "age=age_number+10\n",
    "\n",
    "#in 20 years\n",
    "age=age_number+20\n",
    "\n"
   ]
  },
  {
   "cell_type": "code",
   "execution_count": null,
   "id": "724297f8",
   "metadata": {},
   "outputs": [],
   "source": [
    "#3.Creates and displays several personalized messages using different string methods\n",
    "#1. personalized message\n",
    "name = f\"{First_name.capitalize()} {Last_name.capitalize()}\"\n",
    "msg1 = f\"Hello, {full_name}! Welcome back.\"\n",
    "print(msg1)\n",
    "      \n",
    "# 2. Shout enthusiasm using upper()\n",
    "msg2 = f\"WOW, {name.upper()} IS {age} YEARS YOUNG TODAY!\"\n",
    "print(msg2)\n",
    "\n"
   ]
  },
  {
   "cell_type": "code",
   "execution_count": null,
   "id": "cb5b5c49",
   "metadata": {},
   "outputs": [],
   "source": [
    "#Shows interesting facts about their input (like how many characters their name has)\n",
    "name_length=len(full_name)\n",
    "print(\"Your name has\", name_length,\"characters\")"
   ]
  }
 ],
 "metadata": {
  "kernelspec": {
   "display_name": "base",
   "language": "python",
   "name": "python3"
  },
  "language_info": {
   "codemirror_mode": {
    "name": "ipython",
    "version": 3
   },
   "file_extension": ".py",
   "mimetype": "text/x-python",
   "name": "python",
   "nbconvert_exporter": "python",
   "pygments_lexer": "ipython3",
   "version": "3.13.5"
  }
 },
 "nbformat": 4,
 "nbformat_minor": 5
}
