{
 "cells": [
  {
   "cell_type": "code",
   "execution_count": 2,
   "id": "7faaca1b-870f-4213-9024-2f8b45c16931",
   "metadata": {},
   "outputs": [],
   "source": [
    "#importing pandas\n",
    "import pandas as pd"
   ]
  },
  {
   "cell_type": "code",
   "execution_count": 7,
   "id": "32ccd16a-105f-457b-a7c4-0460707adace",
   "metadata": {},
   "outputs": [
    {
     "name": "stdout",
     "output_type": "stream",
     "text": [
      "TechGadget Store Product Analysis\n",
      "==================================================\n"
     ]
    }
   ],
   "source": [
    "# TechGadget Store Product Data\n",
    "products_data = {\n",
    "'Product_ID': ['TG001', 'TG002', 'TG003', 'TG004', 'TG005', 'TG006', 'TG007', 'TG008'],\n",
    "'Product_Name': ['Wireless Mouse', 'Bluetooth Speaker', 'USB Cable', 'Phone Case',\n",
    "'Laptop Stand', 'Wireless Charger', 'Screen Protector', 'Power Bank'],\n",
    "'Category': ['Accessories', 'Audio', 'Cables', 'Accessories',\n",
    "'Accessories', 'Charging', 'Protection', 'Charging'],\n",
    "'Price': [25.99, 89.99, 12.99, 19.99, 45.99, 39.99, 9.99, 59.99],\n",
    "'Stock_Quantity': [150, 45, 200, 75, 30, 60, 180, 25],\n",
    "'Supplier': ['TechCorp', 'SoundMax', 'TechCorp', 'GuardPro',\n",
    "'DeskMate', 'ChargeFast', 'GuardPro', 'PowerPlus']\n",
    "}\n",
    "\n",
    "products_df= pd.DataFrame(products_data)\n",
    "print(\"TechGadget Store Product Analysis\")\n",
    "print(\"=\"*50)"
   ]
  },
  {
   "cell_type": "markdown",
   "id": "b155d834-2012-4df6-94d0-069ae9e657e7",
   "metadata": {},
   "source": [
    "# Assignment Questions:\n",
    "## Question 1: Dataset Overview"
   ]
  },
  {
   "cell_type": "code",
   "execution_count": 12,
   "id": "3384ff15-ce16-426a-8c7e-831eec7130e0",
   "metadata": {},
   "outputs": [
    {
     "name": "stdout",
     "output_type": "stream",
     "text": [
      "Dataset shape\n",
      "(8, 6)\n"
     ]
    }
   ],
   "source": [
    "# a) What is the shape of the dataset?\n",
    "\n",
    "\n",
    "print(\"Dataset shape\")\n",
    "print(products_df.shape)\n"
   ]
  },
  {
   "cell_type": "code",
   "execution_count": 13,
   "id": "4f7ef884-410d-46be-907b-9766375fb785",
   "metadata": {},
   "outputs": [
    {
     "name": "stdout",
     "output_type": "stream",
     "text": [
      "first 5 products\n"
     ]
    },
    {
     "data": {
      "text/html": [
       "<div>\n",
       "<style scoped>\n",
       "    .dataframe tbody tr th:only-of-type {\n",
       "        vertical-align: middle;\n",
       "    }\n",
       "\n",
       "    .dataframe tbody tr th {\n",
       "        vertical-align: top;\n",
       "    }\n",
       "\n",
       "    .dataframe thead th {\n",
       "        text-align: right;\n",
       "    }\n",
       "</style>\n",
       "<table border=\"1\" class=\"dataframe\">\n",
       "  <thead>\n",
       "    <tr style=\"text-align: right;\">\n",
       "      <th></th>\n",
       "      <th>Product_ID</th>\n",
       "      <th>Product_Name</th>\n",
       "      <th>Category</th>\n",
       "      <th>Price</th>\n",
       "      <th>Stock_Quantity</th>\n",
       "      <th>Supplier</th>\n",
       "    </tr>\n",
       "  </thead>\n",
       "  <tbody>\n",
       "    <tr>\n",
       "      <th>0</th>\n",
       "      <td>TG001</td>\n",
       "      <td>Wireless Mouse</td>\n",
       "      <td>Accessories</td>\n",
       "      <td>25.99</td>\n",
       "      <td>150</td>\n",
       "      <td>TechCorp</td>\n",
       "    </tr>\n",
       "    <tr>\n",
       "      <th>1</th>\n",
       "      <td>TG002</td>\n",
       "      <td>Bluetooth Speaker</td>\n",
       "      <td>Audio</td>\n",
       "      <td>89.99</td>\n",
       "      <td>45</td>\n",
       "      <td>SoundMax</td>\n",
       "    </tr>\n",
       "    <tr>\n",
       "      <th>2</th>\n",
       "      <td>TG003</td>\n",
       "      <td>USB Cable</td>\n",
       "      <td>Cables</td>\n",
       "      <td>12.99</td>\n",
       "      <td>200</td>\n",
       "      <td>TechCorp</td>\n",
       "    </tr>\n",
       "    <tr>\n",
       "      <th>3</th>\n",
       "      <td>TG004</td>\n",
       "      <td>Phone Case</td>\n",
       "      <td>Accessories</td>\n",
       "      <td>19.99</td>\n",
       "      <td>75</td>\n",
       "      <td>GuardPro</td>\n",
       "    </tr>\n",
       "    <tr>\n",
       "      <th>4</th>\n",
       "      <td>TG005</td>\n",
       "      <td>Laptop Stand</td>\n",
       "      <td>Accessories</td>\n",
       "      <td>45.99</td>\n",
       "      <td>30</td>\n",
       "      <td>DeskMate</td>\n",
       "    </tr>\n",
       "  </tbody>\n",
       "</table>\n",
       "</div>"
      ],
      "text/plain": [
       "  Product_ID       Product_Name     Category  Price  Stock_Quantity  Supplier\n",
       "0      TG001     Wireless Mouse  Accessories  25.99             150  TechCorp\n",
       "1      TG002  Bluetooth Speaker        Audio  89.99              45  SoundMax\n",
       "2      TG003          USB Cable       Cables  12.99             200  TechCorp\n",
       "3      TG004         Phone Case  Accessories  19.99              75  GuardPro\n",
       "4      TG005       Laptop Stand  Accessories  45.99              30  DeskMate"
      ]
     },
     "execution_count": 13,
     "metadata": {},
     "output_type": "execute_result"
    }
   ],
   "source": [
    "# b) Display the first 5 products\n",
    "\n",
    "print(\"first 5 products\")\n",
    "products_df.head(5)"
   ]
  },
  {
   "cell_type": "code",
   "execution_count": 16,
   "id": "f1d28ef7-bf04-4adb-a7e6-a4a9ab3c63c7",
   "metadata": {},
   "outputs": [
    {
     "name": "stdout",
     "output_type": "stream",
     "text": [
      "Product categories\n",
      "['Accessories' 'Audio' 'Cables' 'Charging' 'Protection']\n"
     ]
    }
   ],
   "source": [
    "# c) What are all the unique categories?\n",
    "\n",
    "\n",
    "print(\"Product categories\")\n",
    "unique_categories = products_df['Category'].unique()\n",
    "print(unique_categories)"
   ]
  },
  {
   "cell_type": "markdown",
   "id": "21420dc3-f4e4-4255-a912-609e03888acd",
   "metadata": {},
   "source": [
    "### Question 2: Price Analysis"
   ]
  },
  {
   "cell_type": "code",
   "execution_count": 18,
   "id": "4abe6b84-a702-41e3-bffe-47040ae6bdfd",
   "metadata": {},
   "outputs": [
    {
     "name": "stdout",
     "output_type": "stream",
     "text": [
      "Top 3 most expensive products!!\n",
      "  Product_ID       Product_Name     Category  Price  Stock_Quantity   Supplier\n",
      "1      TG002  Bluetooth Speaker        Audio  89.99              45   SoundMax\n",
      "7      TG008         Power Bank     Charging  59.99              25  PowerPlus\n",
      "4      TG005       Laptop Stand  Accessories  45.99              30   DeskMate\n"
     ]
    }
   ],
   "source": [
    "# a) What are the top 3 most expensive products?\n",
    "\n",
    "print(\"Top 3 most expensive products!!\")\n",
    "top_3_expensive = products_df.sort_values(by='Price', ascending=False).head(3)\n",
    "print(top_3_expensive)"
   ]
  },
  {
   "cell_type": "code",
   "execution_count": 20,
   "id": "24e0dbe8-b679-4a7a-a3dc-0881de33b1a4",
   "metadata": {},
   "outputs": [
    {
     "name": "stdout",
     "output_type": "stream",
     "text": [
      "Products over $50:\n",
      "  Product_ID       Product_Name  Category  Price  Stock_Quantity   Supplier\n",
      "1      TG002  Bluetooth Speaker     Audio  89.99              45   SoundMax\n",
      "7      TG008         Power Bank  Charging  59.99              25  PowerPlus\n"
     ]
    }
   ],
   "source": [
    "# b) Find all products priced above $50\n",
    "\n",
    "print(\"Products over $50:\")\n",
    "products_above_50 = products_df[products_df['Price'] > 50]\n",
    "print(products_above_50)"
   ]
  },
  {
   "cell_type": "markdown",
   "id": "9847b15b-e147-4b29-9952-e2233fa91333",
   "metadata": {},
   "source": [
    "### Question 3: Inventory Management"
   ]
  },
  {
   "cell_type": "code",
   "execution_count": 21,
   "id": "8eee7c71-3d2a-440d-8b87-b061401d3f3f",
   "metadata": {},
   "outputs": [
    {
     "name": "stdout",
     "output_type": "stream",
     "text": [
      "  Product_ID       Product_Name     Category  Price  Stock_Quantity   Supplier\n",
      "1      TG002  Bluetooth Speaker        Audio  89.99              45   SoundMax\n",
      "4      TG005       Laptop Stand  Accessories  45.99              30   DeskMate\n",
      "7      TG008         Power Bank     Charging  59.99              25  PowerPlus\n"
     ]
    }
   ],
   "source": [
    "\n",
    "# a) Which products have less than 50 items in stock?\n",
    "low_stock_products = products_df[products_df['Stock_Quantity'] < 50]\n",
    "print(low_stock_products)"
   ]
  },
  {
   "cell_type": "code",
   "execution_count": 23,
   "id": "723847a2-0e2b-4c03-9151-ced33e5809ff",
   "metadata": {},
   "outputs": [
    {
     "name": "stdout",
     "output_type": "stream",
     "text": [
      "Charging products and stock:\n",
      "       Product_Name  Stock_Quantity\n",
      "5  Wireless Charger              60\n",
      "7        Power Bank              25\n"
     ]
    }
   ],
   "source": [
    "# b) Find all 'Charging' category products with their stock levels\n",
    "\n",
    "print(\"Charging products and stock:\")\n",
    "\n",
    "charging_products = products_df[products_df['Category'] == 'Charging'][['Product_Name', 'Stock_Quantity']]\n",
    "print(charging_products)"
   ]
  },
  {
   "cell_type": "code",
   "execution_count": 27,
   "id": "5bfad3bf-5392-4785-8517-79b611e379e7",
   "metadata": {},
   "outputs": [
    {
     "name": "stdout",
     "output_type": "stream",
     "text": [
      "Supplier with most products:\n"
     ]
    }
   ],
   "source": [
    "# c) Which supplier provides the most products?\n",
    "top_supplier = products_df['supplier'].value_counts().idxmax()\n",
    "product_count = products_df['supplier'].value_counts().max()\n",
    "\n",
    "print(f\"The supplier providing the most products is '{top_supplier}' with {product_count} products.\")\n",
    "top_supplier = products_df['Supplier'].value_counts().idxmax()\n",
    "product_count = products_df['Supplier'].value_counts().max()"
   ]
  },
  {
   "cell_type": "markdown",
   "id": "43dc63c2-7b94-4ba2-9f57-1b6cc5b00701",
   "metadata": {},
   "source": [
    "### Question 4: Business Insights"
   ]
  },
  {
   "cell_type": "code",
   "execution_count": 31,
   "id": "7f3851c4-e4aa-461b-8715-994817cf8ca8",
   "metadata": {},
   "outputs": [
    {
     "name": "stdout",
     "output_type": "stream",
     "text": [
      "  Product_ID  Product_Name     Category  Price  Stock_Quantity  Supplier\n",
      "4      TG005  Laptop Stand  Accessories  45.99              30  DeskMate\n"
     ]
    }
   ],
   "source": [
    "# a) Find expensive accessories (Accessories category, price > $30)\n",
    "\n",
    "expensive_accessories =  products_df[( products_df['Category'] == 'Accessories') & ( products_df['Price'] > 30)]\n",
    "\n",
    "print(expensive_accessories)"
   ]
  },
  {
   "cell_type": "code",
   "execution_count": 36,
   "id": "6dbad41f-f657-4e34-8d1a-9a7f53c6b8b3",
   "metadata": {},
   "outputs": [
    {
     "name": "stdout",
     "output_type": "stream",
     "text": [
      "Inventory value by category\n",
      "Category\n",
      "Accessories    6777.45\n",
      "Audio          4049.55\n",
      "Cables         2598.00\n",
      "Charging       3899.15\n",
      "Protection     1798.20\n",
      "Name: total_value, dtype: float64\n"
     ]
    }
   ],
   "source": [
    "# b) Calculate total value of inventory for each category\n",
    "\n",
    "print(\"Inventory value by category\")\n",
    "# Step 1: Calculate total value for each item\n",
    "products_df['total_value'] =  products_df['Price'] *  products_df['Stock_Quantity']\n",
    "\n",
    "# Step 2: Group by category and sum the total value\n",
    "inventory_value_by_category = products_df.groupby('Category')['total_value'].sum()\n",
    "\n",
    "print(inventory_value_by_category)"
   ]
  },
  {
   "cell_type": "code",
   "execution_count": null,
   "id": "5bb26b96-99c2-4753-93e7-8833cbf64fd1",
   "metadata": {},
   "outputs": [],
   "source": []
  }
 ],
 "metadata": {
  "kernelspec": {
   "display_name": "Python [conda env:base] *",
   "language": "python",
   "name": "conda-base-py"
  },
  "language_info": {
   "codemirror_mode": {
    "name": "ipython",
    "version": 3
   },
   "file_extension": ".py",
   "mimetype": "text/x-python",
   "name": "python",
   "nbconvert_exporter": "python",
   "pygments_lexer": "ipython3",
   "version": "3.13.5"
  }
 },
 "nbformat": 4,
 "nbformat_minor": 5
}
