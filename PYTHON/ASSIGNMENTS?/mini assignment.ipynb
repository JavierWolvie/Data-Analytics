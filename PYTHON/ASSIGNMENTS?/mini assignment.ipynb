{
 "cells": [
  {
   "cell_type": "markdown",
   "id": "c00022ee-acb7-41ee-892d-1621d526423e",
   "metadata": {},
   "source": [
    "# Exercise 1: Basic Data Loading \n"
   ]
  },
  {
   "cell_type": "code",
   "execution_count": 6,
   "id": "fc9a2aaf-662c-4996-abc7-67164fdb29fb",
   "metadata": {},
   "outputs": [],
   "source": [
    "import pandas as pd\n",
    "\n",
    "# Create your own sample dataset \n",
    "exercise_data = { \n",
    "'Student_Name': ['Alice', 'Bob', 'Charlie', 'Diana', 'Eve'], 'Math_Score': [85, 92, 78, 96, 88], \n",
    "'English_Score': [90, 85, 92, 89, 94], \n",
    "'Science_Score': [88, 90, 85, 92, 87], \n",
    "'Grade_Level': [10, 11, 10, 12, 11] \n",
    "} \n",
    "\n",
    "# Convert to DataFrame \n",
    "\n",
    "grades_df =pd. DataFrame(exercise_data) \n",
    "\n"
   ]
  },
  {
   "cell_type": "code",
   "execution_count": 11,
   "id": "ea674867-f077-4c35-9650-f7dfc9477e78",
   "metadata": {},
   "outputs": [
    {
     "name": "stdout",
     "output_type": "stream",
     "text": [
      "  Student_Name  Math_Score  English_Score  Science_Score  Grade_Level\n",
      "0        Alice          85             90             88           10\n",
      "1          Bob          92             85             90           11\n",
      "2      Charlie          78             92             85           10\n"
     ]
    }
   ],
   "source": [
    "# first 3 rows\n",
    "\n",
    "first_three=grades_df.head\n",
    "print(grades_df.head(3))"
   ]
  },
  {
   "cell_type": "code",
   "execution_count": 14,
   "id": "4187173b-e6d3-4744-a146-e5ee03daa7df",
   "metadata": {},
   "outputs": [
    {
     "name": "stdout",
     "output_type": "stream",
     "text": [
      "Shape of the dataset: (5, 5)\n"
     ]
    }
   ],
   "source": [
    "# 2. Show the shape of the dataset \n",
    "print(\"Shape of the dataset:\",grades_df.shape)"
   ]
  },
  {
   "cell_type": "code",
   "execution_count": 13,
   "id": "4f8f663c-c955-41c1-96e4-b399f346e794",
   "metadata": {},
   "outputs": [
    {
     "name": "stdout",
     "output_type": "stream",
     "text": [
      "Column names: ['Student_Name', 'Math_Score', 'English_Score', 'Science_Score', 'Grade_Level']\n"
     ]
    }
   ],
   "source": [
    "# 3. Display all column names \n",
    "print(\"Column names:\",grades_df.columns.tolist())"
   ]
  },
  {
   "cell_type": "code",
   "execution_count": 15,
   "id": "e99f5d3e-3aa5-474e-9930-24a4d4aaefbd",
   "metadata": {},
   "outputs": [
    {
     "name": "stdout",
     "output_type": "stream",
     "text": [
      "<bound method NDFrame.describe of   Student_Name  Math_Score  English_Score  Science_Score  Grade_Level\n",
      "0        Alice          85             90             88           10\n",
      "1          Bob          92             85             90           11\n",
      "2      Charlie          78             92             85           10\n",
      "3        Diana          96             89             92           12\n",
      "4          Eve          88             94             87           11>\n"
     ]
    }
   ],
   "source": [
    "# 4. Get summary statistics \n",
    "print(grades_df.describe)"
   ]
  },
  {
   "cell_type": "markdown",
   "id": "a2c57cb3-ccab-466a-acb0-906d3b3c71a2",
   "metadata": {},
   "source": [
    "## Exercise 2: Data Selection Practice \n"
   ]
  },
  {
   "cell_type": "code",
   "execution_count": 16,
   "id": "a669d66e-c3b7-4218-b9ff-d0e8aad41dcd",
   "metadata": {},
   "outputs": [
    {
     "name": "stdout",
     "output_type": "stream",
     "text": [
      "Exercise data selection practise!!\n"
     ]
    }
   ],
   "source": [
    "print(\"Exercise data selection practise!!\")"
   ]
  },
  {
   "cell_type": "code",
   "execution_count": 17,
   "id": "23c5e504-da90-4b80-a00e-f092a87afe75",
   "metadata": {},
   "outputs": [
    {
     "name": "stdout",
     "output_type": "stream",
     "text": [
      "Task 1: Select only Math and English scores using\n",
      "   Math_Score  English_Score\n",
      "0          85             90\n",
      "1          92             85\n",
      "2          78             92\n",
      "3          96             89\n",
      "4          88             94\n"
     ]
    }
   ],
   "source": [
    "# Using the grades dataset from Exercise 1 \n",
    "# Complete these tasks:\n",
    "\n",
    "print(\"Task 1: Select only Math and English scores using\")\n",
    "\n",
    "# Select rows where both scores are not null (always true in this case)\n",
    "math_english = grades_df[(grades_df['Math_Score'].notna()) & (grades_df['English_Score'].notna())][['Math_Score', 'English_Score']]\n",
    "\n",
    "print(math_english)"
   ]
  },
  {
   "cell_type": "code",
   "execution_count": 18,
   "id": "47edb363-f321-40f0-b72a-f4a21f672464",
   "metadata": {},
   "outputs": [
    {
     "name": "stdout",
     "output_type": "stream",
     "text": [
      "\n",
      "Task 2: Get the first 2 rows using iloc\n",
      "  Student_Name  Math_Score  English_Score  Science_Score  Grade_Level\n",
      "0        Alice          85             90             88           10\n",
      "1          Bob          92             85             90           11\n"
     ]
    }
   ],
   "source": [
    "print(\"\\nTask 2: Get the first 2 rows using iloc\")\n",
    "\n",
    "# YOUR CODE HERE:\n",
    "first_two = grades_df.iloc[0:2]\n",
    "\n",
    "print(first_two)"
   ]
  },
  {
   "cell_type": "code",
   "execution_count": 19,
   "id": "ea1a799b-3f7d-4584-bf20-e0087d7b74f5",
   "metadata": {},
   "outputs": [
    {
     "name": "stdout",
     "output_type": "stream",
     "text": [
      "\n",
      "Task 3: Select student names and math scores for rows 1-3\n",
      "  Student_Name  Math_Score\n",
      "1          Bob          92\n",
      "2      Charlie          78\n",
      "3        Diana          96\n"
     ]
    }
   ],
   "source": [
    "print(\"\\nTask 3: Select student names and math scores for rows 1-3\")\n",
    "\n",
    "# YOUR CODE HERE:\n",
    "names_maths = grades_df.loc[1:3, ['Student_Name', 'Math_Score']]\n",
    "\n",
    "print(names_maths)"
   ]
  },
  {
   "cell_type": "markdown",
   "id": "5ffd55a7-280d-4149-a0f6-db8841292c44",
   "metadata": {},
   "source": [
    "### Exercise 3: Filtering Challenge "
   ]
  },
  {
   "cell_type": "code",
   "execution_count": 20,
   "id": "eaeb8e88-76cf-4f64-90d3-b41247c7935b",
   "metadata": {},
   "outputs": [
    {
     "name": "stdout",
     "output_type": "stream",
     "text": [
      "1. Scored above 90 in Math:\n",
      "  Student_Name  Math_Score  English_Score  Science_Score  Grade_Level\n",
      "1          Bob          92             85             90           11\n",
      "3        Diana          96             89             92           12\n"
     ]
    }
   ],
   "source": [
    "print(\"1. Scored above 90 in Math:\")\n",
    "\n",
    "# YOUR CODE HERE:\n",
    "high_math = grades_df[grades_df['Math_Score'] > 90]\n",
    "\n",
    "print(high_math)"
   ]
  },
  {
   "cell_type": "code",
   "execution_count": 23,
   "id": "878cdbe2-69dc-434a-8843-83b97cd68bf9",
   "metadata": {},
   "outputs": [
    {
     "name": "stdout",
     "output_type": "stream",
     "text": [
      "\n",
      "2. Are in grade 10 OR scored above 90 in English:\n",
      "  Student_Name  Math_Score  English_Score  Science_Score  Grade_Level\n",
      "0        Alice          85             90             88           10\n",
      "2      Charlie          78             92             85           10\n",
      "4          Eve          88             94             87           11\n"
     ]
    }
   ],
   "source": [
    "print(\"\\n2. Are in grade 10 OR scored above 90 in English:\")\n",
    "\n",
    "# YOUR CODE HERE:\n",
    "condition = grades_df[(grades_df['Grade_Level'] == 10) | (grades_df['English_Score'] > 90)]\n",
    "\n",
    "print(condition)"
   ]
  },
  {
   "cell_type": "code",
   "execution_count": 24,
   "id": "6d4466f0-4cc3-4f18-b855-cfce199a3f48",
   "metadata": {},
   "outputs": [
    {
     "name": "stdout",
     "output_type": "stream",
     "text": [
      "\n",
      "3. Scored above 85 in ALL three subjects:\n",
      "  Student_Name  Math_Score  English_Score  Science_Score  Grade_Level\n",
      "3        Diana          96             89             92           12\n",
      "4          Eve          88             94             87           11\n"
     ]
    }
   ],
   "source": [
    "print(\"\\n3. Scored above 85 in ALL three subjects:\")\n",
    "\n",
    "# YOUR CODE HERE:\n",
    "all_high = grades_df[\n",
    "    (grades_df['Math_Score'] > 85) &\n",
    "    (grades_df['English_Score'] > 85) &\n",
    "    (grades_df['Science_Score'] > 85)\n",
    "]\n",
    "\n",
    "print(all_high)"
   ]
  },
  {
   "cell_type": "code",
   "execution_count": null,
   "id": "3f7ff30c-9a65-472a-87b5-49841d33d906",
   "metadata": {},
   "outputs": [],
   "source": []
  }
 ],
 "metadata": {
  "kernelspec": {
   "display_name": "Python [conda env:base] *",
   "language": "python",
   "name": "conda-base-py"
  },
  "language_info": {
   "codemirror_mode": {
    "name": "ipython",
    "version": 3
   },
   "file_extension": ".py",
   "mimetype": "text/x-python",
   "name": "python",
   "nbconvert_exporter": "python",
   "pygments_lexer": "ipython3",
   "version": "3.13.5"
  }
 },
 "nbformat": 4,
 "nbformat_minor": 5
}
