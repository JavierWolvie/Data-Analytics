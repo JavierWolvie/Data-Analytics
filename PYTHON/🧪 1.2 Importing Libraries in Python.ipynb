{
 "cells": [
  {
   "cell_type": "markdown",
   "id": "f51f00a5-d967-4366-b73b-32a1c50eacfb",
   "metadata": {},
   "source": [
    "# 🧪 1.2 Importing Libraries in Python"
   ]
  },
  {
   "cell_type": "code",
   "execution_count": 1,
   "id": "155be9b3-afed-45e4-bb8a-da0968cb1a2b",
   "metadata": {},
   "outputs": [],
   "source": [
    "# Import pandas for data manipulation and analysis\n",
    "\n",
    "import pandas as pd\n",
    "\n",
    "# Import numpy for numerical operations and arrays\n",
    "import numpy as np\n",
    "\n",
    "# Import matplotlib for creating basic plots and visualizations\n",
    "import matplotlib.pyplot as plt\n",
    "\n",
    "# Import seaborn for statistical visualizations and beautiful plots\n",
    "import seaborn as sns\n",
    "\n"
   ]
  },
  {
   "cell_type": "code",
   "execution_count": 2,
   "id": "1dcc7c09-1637-490b-a912-c2836e9c7d91",
   "metadata": {},
   "outputs": [
    {
     "name": "stdout",
     "output_type": "stream",
     "text": [
      "All libraries imported successfully!!\n"
     ]
    }
   ],
   "source": [
    "# Step 1: Import our data analysis toolkit\n",
    "\n",
    "import pandas as pd # Will load and organize the sales data\n",
    "import numpy as np # Will calculate averages, totals, and trends\n",
    "import matplotlib.pyplot as plt # Will create charts showing sales over time\n",
    "import seaborn as sns # Will make beautiful visualizations of customer patterns\n",
    "\n",
    "print(\"All libraries imported successfully!!\")"
   ]
  },
  {
   "cell_type": "code",
   "execution_count": 9,
   "id": "d36159f1-3e5c-4216-b8de-f64961112844",
   "metadata": {},
   "outputs": [
    {
     "name": "stdout",
     "output_type": "stream",
     "text": [
      " Pandas version: 2.2.3\n",
      " Numpy version: 2.1.3\n",
      " Matplotlib and Seaborn are ready for visualization!\n"
     ]
    }
   ],
   "source": [
    "# === STEP 2: Test that everything works ===\n",
    "print(f\" Pandas version: {pd.__version__}\")\n",
    "print(f\" Numpy version: {np.__version__}\")\n",
    "print(\" Matplotlib and Seaborn are ready for visualization!\")"
   ]
  },
  {
   "cell_type": "code",
   "execution_count": 8,
   "id": "c4202e30-9490-42ce-89af-ac13ff14c61d",
   "metadata": {},
   "outputs": [],
   "source": [
    "# === STEP 3: Create a simple example ===\n",
    "# Let's create some sample data to prove everything works\n",
    "sample_data = {\n",
    "'Product': ['Apples', 'Bananas', 'Oranges', 'Bread', 'Milk'],\n",
    "'Sales': [150, 200, 120, 300, 250],\n",
    "'Profit': [45, 80, 36, 90, 75]\n",
    "}\n",
    "\n",
    "df= pd.DataFrame(sample_data)"
   ]
  },
  {
   "cell_type": "code",
   "execution_count": 6,
   "id": "0254fbac-e649-4667-9d06-da6bcc94ae62",
   "metadata": {},
   "outputs": [
    {
     "name": "stdout",
     "output_type": "stream",
     "text": [
      "All the libraries successfully imported!!\n"
     ]
    }
   ],
   "source": [
    "#Import pandas with alias\n",
    "\n",
    "import pandas as pd\n",
    "# Import numpy with alias ___\n",
    "import numpy as np\n",
    "# Import matplotlib.pyplot with alias ___\n",
    "import matplotlib.pyplot as plt\n",
    "# Import seaborn with alias\n",
    "import seaborn as sns\n",
    "\n",
    "\n",
    "#Test your libraries\n",
    "\n",
    "print(\"All the libraries successfully imported!!\")"
   ]
  },
  {
   "cell_type": "code",
   "execution_count": null,
   "id": "f113618b-183b-46c6-9f68-02eb0248246e",
   "metadata": {},
   "outputs": [],
   "source": []
  }
 ],
 "metadata": {
  "kernelspec": {
   "display_name": "Python 3 (ipykernel)",
   "language": "python",
   "name": "python3"
  },
  "language_info": {
   "codemirror_mode": {
    "name": "ipython",
    "version": 3
   },
   "file_extension": ".py",
   "mimetype": "text/x-python",
   "name": "python",
   "nbconvert_exporter": "python",
   "pygments_lexer": "ipython3",
   "version": "3.13.5"
  }
 },
 "nbformat": 4,
 "nbformat_minor": 5
}
