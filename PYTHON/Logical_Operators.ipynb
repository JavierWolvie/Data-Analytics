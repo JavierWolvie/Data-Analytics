{
 "cells": [
  {
   "cell_type": "markdown",
   "id": "6dc063ad",
   "metadata": {},
   "source": [
    "Making programs smart-\n",
    "Basic arithmetic Operation"
   ]
  },
  {
   "cell_type": "code",
   "execution_count": 11,
   "id": "74e1e475",
   "metadata": {},
   "outputs": [
    {
     "name": "stdout",
     "output_type": "stream",
     "text": [
      "My total expenses this month was 17000\n"
     ]
    }
   ],
   "source": [
    "#Get yout total expenses\n",
    "rent=3500\n",
    "wifi=1500\n",
    "miscellaneous=4500\n",
    "food=3000\n",
    "savings=4500\n",
    "\n",
    "\n",
    "Total_expenses=rent+wifi+miscellaneous+food+savings\n",
    "\n",
    "print(\"My total expenses this month was\",Total_expenses,)"
   ]
  },
  {
   "cell_type": "code",
   "execution_count": 12,
   "id": "c354c4ec",
   "metadata": {},
   "outputs": [
    {
     "name": "stdout",
     "output_type": "stream",
     "text": [
      "My balance this month is 13000\n"
     ]
    }
   ],
   "source": [
    "total_salary=30000\n",
    "balance=total_salary-Total_expenses\n",
    "print(\"My balance this month is\", balance,)"
   ]
  },
  {
   "cell_type": "code",
   "execution_count": 13,
   "id": "0af3f7c7",
   "metadata": {},
   "outputs": [
    {
     "name": "stdout",
     "output_type": "stream",
     "text": [
      "Total money spent on internet 3000\n"
     ]
    }
   ],
   "source": [
    "#Calculate monthly bundles spending\n",
    "data_bundles=100\n",
    "days_of_the_month=30\n",
    "\n",
    "total_spent_on_bundles=data_bundles * days_of_the_month\n",
    "print(\"Total money spent on internet\",total_spent_on_bundles)\n"
   ]
  },
  {
   "cell_type": "markdown",
   "id": "c74237a1",
   "metadata": {},
   "source": [
    "##Special Math Operation\n"
   ]
  },
  {
   "cell_type": "code",
   "execution_count": 14,
   "id": "15634264",
   "metadata": {},
   "outputs": [
    {
     "name": "stdout",
     "output_type": "stream",
     "text": [
      "Each kid gets 4 biscuits\n"
     ]
    }
   ],
   "source": [
    "#Integers Division= division that gives a whole number only\n",
    "biscuits=23\n",
    "number_of_children=5\n",
    "\n",
    "biscuits_per_kid=biscuits//number_of_children\n",
    "print(\"Each kid gets\",biscuits_per_kid,\"biscuits\")"
   ]
  },
  {
   "cell_type": "code",
   "execution_count": null,
   "id": "edb2d702",
   "metadata": {},
   "outputs": [],
   "source": [
    "#Remainder (Modullo)\n",
    "\n"
   ]
  }
 ],
 "metadata": {
  "kernelspec": {
   "display_name": "Python 3",
   "language": "python",
   "name": "python3"
  },
  "language_info": {
   "codemirror_mode": {
    "name": "ipython",
    "version": 3
   },
   "file_extension": ".py",
   "mimetype": "text/x-python",
   "name": "python",
   "nbconvert_exporter": "python",
   "pygments_lexer": "ipython3",
   "version": "3.13.5"
  }
 },
 "nbformat": 4,
 "nbformat_minor": 5
}
